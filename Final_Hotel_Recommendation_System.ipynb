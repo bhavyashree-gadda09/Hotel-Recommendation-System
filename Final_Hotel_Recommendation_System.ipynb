{
  "nbformat": 4,
  "nbformat_minor": 0,
  "metadata": {
    "colab": {
      "provenance": []
    },
    "kernelspec": {
      "name": "python3",
      "display_name": "Python 3"
    },
    "language_info": {
      "name": "python"
    }
  },
  "cells": [
    {
      "cell_type": "code",
      "source": [
        "import pandas as pd\n",
        "import numpy as np\n",
        "from sklearn.preprocessing import LabelEncoder\n",
        "encoder=LabelEncoder()\n",
        "import seaborn as sns\n",
        "import matplotlib.pyplot as plt"
      ],
      "metadata": {
        "id": "Vq7U5b340UIu"
      },
      "execution_count": 139,
      "outputs": []
    },
    {
      "cell_type": "code",
      "source": [
        "data = pd.read_csv('hotel_data.csv',encoding='latin-1')\n",
        "#df=pd.read_csv('hotel_data.csv',encoding='latin-1')\n",
        "#hotel_info=data[['hotel','address']].copy(deep=True)\n",
        "df=data.copy(deep=True)\n",
        "data"
      ],
      "metadata": {
        "colab": {
          "base_uri": "https://localhost:8080/",
          "height": 580
        },
        "id": "UWlawWsr0Ztx",
        "outputId": "5354de8c-4aff-4cdc-fe70-b6dd35134519"
      },
      "execution_count": 140,
      "outputs": [
        {
          "output_type": "execute_result",
          "data": {
            "text/plain": [
              "                                         ï»¿Hotel Name  Rating  \\\n",
              "0                                   The Park Bangalore     3.9   \n",
              "1    Keys Select by Lemon Tree Hotels, Whitefield, ...     4.0   \n",
              "2              ITC Windsor - A Luxury Collection Hotel     4.4   \n",
              "3             Lemon Tree Premier Ulsoor Lake Bangalore     4.0   \n",
              "4    Keys Select by Lemon Tree Hotels, Hosur Road, ...     4.0   \n",
              "..                                                 ...     ...   \n",
              "575           Blossom Dormitory ( For Male and Female)     3.6   \n",
              "576                               Comfort Inn Heritage     3.9   \n",
              "577                             Hotel Planet Residency     3.8   \n",
              "578                               Hotel Kohinoor Elite     4.1   \n",
              "579                            Residency Hotel Andheri     4.0   \n",
              "\n",
              "    Rating Description  Reviews  Star Rating              Location  \\\n",
              "0            Very Good   4187.0          5.0                Ulsoor   \n",
              "1            Very Good   2201.0          4.0           Brookefield   \n",
              "2            Excellent   1315.0          5.0        Vasanth Nagar    \n",
              "3            Very Good   5089.0          5.0  Sivanchetti Gardens    \n",
              "4            Very Good   3290.0          4.0            Hosur road   \n",
              "..                 ...      ...          ...                   ...   \n",
              "575          Very Good    214.0          NaN             Sakinaka    \n",
              "576          Very Good    963.0          4.0          South Mumbai   \n",
              "577          Very Good   1064.0          3.0  Near Mumbai Airport    \n",
              "578          Very Good   2183.0          4.0  Near Mumbai Airport    \n",
              "579          Very Good   1866.0          4.0         Andheri East    \n",
              "\n",
              "                                   Nearest Landmark Distance to Landmark  \\\n",
              "0                                               NaN                  NaN   \n",
              "1                                               NaN                  NaN   \n",
              "2                                  Bangalore Palace              2.4 km    \n",
              "3                                       Ulsoor Lake               770 m    \n",
              "4                                               NaN                  NaN   \n",
              "..                                              ...                  ...   \n",
              "575  T2 - Chhatrapati Shivaji International Airport              3.4 km    \n",
              "576                                             NaN                  NaN   \n",
              "577  T1 - Chhatrapati Shivaji International Airport              2.2 km    \n",
              "578  T2 - Chhatrapati Shivaji International Airport              6.1 km    \n",
              "579  T1 - Chhatrapati Shivaji International Airport              3.2 km    \n",
              "\n",
              "     Price    Tax      state  \n",
              "0    7,567  2,254  bangalore  \n",
              "1    1,509    531  bangalore  \n",
              "2    9,900    NaN  bangalore  \n",
              "3    2,347    918  bangalore  \n",
              "4    2,522  1,014  bangalore  \n",
              "..     ...    ...        ...  \n",
              "575    678    189     mumbai  \n",
              "576  4,743  1,122     mumbai  \n",
              "577  3,726  1,028     mumbai  \n",
              "578  7,250    NaN     mumbai  \n",
              "579  4,883  1,155     mumbai  \n",
              "\n",
              "[580 rows x 11 columns]"
            ],
            "text/html": [
              "\n",
              "  <div id=\"df-5a7928ef-c89e-4bc7-8b5a-9091556fde81\" class=\"colab-df-container\">\n",
              "    <div>\n",
              "<style scoped>\n",
              "    .dataframe tbody tr th:only-of-type {\n",
              "        vertical-align: middle;\n",
              "    }\n",
              "\n",
              "    .dataframe tbody tr th {\n",
              "        vertical-align: top;\n",
              "    }\n",
              "\n",
              "    .dataframe thead th {\n",
              "        text-align: right;\n",
              "    }\n",
              "</style>\n",
              "<table border=\"1\" class=\"dataframe\">\n",
              "  <thead>\n",
              "    <tr style=\"text-align: right;\">\n",
              "      <th></th>\n",
              "      <th>ï»¿Hotel Name</th>\n",
              "      <th>Rating</th>\n",
              "      <th>Rating Description</th>\n",
              "      <th>Reviews</th>\n",
              "      <th>Star Rating</th>\n",
              "      <th>Location</th>\n",
              "      <th>Nearest Landmark</th>\n",
              "      <th>Distance to Landmark</th>\n",
              "      <th>Price</th>\n",
              "      <th>Tax</th>\n",
              "      <th>state</th>\n",
              "    </tr>\n",
              "  </thead>\n",
              "  <tbody>\n",
              "    <tr>\n",
              "      <th>0</th>\n",
              "      <td>The Park Bangalore</td>\n",
              "      <td>3.9</td>\n",
              "      <td>Very Good</td>\n",
              "      <td>4187.0</td>\n",
              "      <td>5.0</td>\n",
              "      <td>Ulsoor</td>\n",
              "      <td>NaN</td>\n",
              "      <td>NaN</td>\n",
              "      <td>7,567</td>\n",
              "      <td>2,254</td>\n",
              "      <td>bangalore</td>\n",
              "    </tr>\n",
              "    <tr>\n",
              "      <th>1</th>\n",
              "      <td>Keys Select by Lemon Tree Hotels, Whitefield, ...</td>\n",
              "      <td>4.0</td>\n",
              "      <td>Very Good</td>\n",
              "      <td>2201.0</td>\n",
              "      <td>4.0</td>\n",
              "      <td>Brookefield</td>\n",
              "      <td>NaN</td>\n",
              "      <td>NaN</td>\n",
              "      <td>1,509</td>\n",
              "      <td>531</td>\n",
              "      <td>bangalore</td>\n",
              "    </tr>\n",
              "    <tr>\n",
              "      <th>2</th>\n",
              "      <td>ITC Windsor - A Luxury Collection Hotel</td>\n",
              "      <td>4.4</td>\n",
              "      <td>Excellent</td>\n",
              "      <td>1315.0</td>\n",
              "      <td>5.0</td>\n",
              "      <td>Vasanth Nagar</td>\n",
              "      <td>Bangalore Palace</td>\n",
              "      <td>2.4 km</td>\n",
              "      <td>9,900</td>\n",
              "      <td>NaN</td>\n",
              "      <td>bangalore</td>\n",
              "    </tr>\n",
              "    <tr>\n",
              "      <th>3</th>\n",
              "      <td>Lemon Tree Premier Ulsoor Lake Bangalore</td>\n",
              "      <td>4.0</td>\n",
              "      <td>Very Good</td>\n",
              "      <td>5089.0</td>\n",
              "      <td>5.0</td>\n",
              "      <td>Sivanchetti Gardens</td>\n",
              "      <td>Ulsoor Lake</td>\n",
              "      <td>770 m</td>\n",
              "      <td>2,347</td>\n",
              "      <td>918</td>\n",
              "      <td>bangalore</td>\n",
              "    </tr>\n",
              "    <tr>\n",
              "      <th>4</th>\n",
              "      <td>Keys Select by Lemon Tree Hotels, Hosur Road, ...</td>\n",
              "      <td>4.0</td>\n",
              "      <td>Very Good</td>\n",
              "      <td>3290.0</td>\n",
              "      <td>4.0</td>\n",
              "      <td>Hosur road</td>\n",
              "      <td>NaN</td>\n",
              "      <td>NaN</td>\n",
              "      <td>2,522</td>\n",
              "      <td>1,014</td>\n",
              "      <td>bangalore</td>\n",
              "    </tr>\n",
              "    <tr>\n",
              "      <th>...</th>\n",
              "      <td>...</td>\n",
              "      <td>...</td>\n",
              "      <td>...</td>\n",
              "      <td>...</td>\n",
              "      <td>...</td>\n",
              "      <td>...</td>\n",
              "      <td>...</td>\n",
              "      <td>...</td>\n",
              "      <td>...</td>\n",
              "      <td>...</td>\n",
              "      <td>...</td>\n",
              "    </tr>\n",
              "    <tr>\n",
              "      <th>575</th>\n",
              "      <td>Blossom Dormitory ( For Male and Female)</td>\n",
              "      <td>3.6</td>\n",
              "      <td>Very Good</td>\n",
              "      <td>214.0</td>\n",
              "      <td>NaN</td>\n",
              "      <td>Sakinaka</td>\n",
              "      <td>T2 - Chhatrapati Shivaji International Airport</td>\n",
              "      <td>3.4 km</td>\n",
              "      <td>678</td>\n",
              "      <td>189</td>\n",
              "      <td>mumbai</td>\n",
              "    </tr>\n",
              "    <tr>\n",
              "      <th>576</th>\n",
              "      <td>Comfort Inn Heritage</td>\n",
              "      <td>3.9</td>\n",
              "      <td>Very Good</td>\n",
              "      <td>963.0</td>\n",
              "      <td>4.0</td>\n",
              "      <td>South Mumbai</td>\n",
              "      <td>NaN</td>\n",
              "      <td>NaN</td>\n",
              "      <td>4,743</td>\n",
              "      <td>1,122</td>\n",
              "      <td>mumbai</td>\n",
              "    </tr>\n",
              "    <tr>\n",
              "      <th>577</th>\n",
              "      <td>Hotel Planet Residency</td>\n",
              "      <td>3.8</td>\n",
              "      <td>Very Good</td>\n",
              "      <td>1064.0</td>\n",
              "      <td>3.0</td>\n",
              "      <td>Near Mumbai Airport</td>\n",
              "      <td>T1 - Chhatrapati Shivaji International Airport</td>\n",
              "      <td>2.2 km</td>\n",
              "      <td>3,726</td>\n",
              "      <td>1,028</td>\n",
              "      <td>mumbai</td>\n",
              "    </tr>\n",
              "    <tr>\n",
              "      <th>578</th>\n",
              "      <td>Hotel Kohinoor Elite</td>\n",
              "      <td>4.1</td>\n",
              "      <td>Very Good</td>\n",
              "      <td>2183.0</td>\n",
              "      <td>4.0</td>\n",
              "      <td>Near Mumbai Airport</td>\n",
              "      <td>T2 - Chhatrapati Shivaji International Airport</td>\n",
              "      <td>6.1 km</td>\n",
              "      <td>7,250</td>\n",
              "      <td>NaN</td>\n",
              "      <td>mumbai</td>\n",
              "    </tr>\n",
              "    <tr>\n",
              "      <th>579</th>\n",
              "      <td>Residency Hotel Andheri</td>\n",
              "      <td>4.0</td>\n",
              "      <td>Very Good</td>\n",
              "      <td>1866.0</td>\n",
              "      <td>4.0</td>\n",
              "      <td>Andheri East</td>\n",
              "      <td>T1 - Chhatrapati Shivaji International Airport</td>\n",
              "      <td>3.2 km</td>\n",
              "      <td>4,883</td>\n",
              "      <td>1,155</td>\n",
              "      <td>mumbai</td>\n",
              "    </tr>\n",
              "  </tbody>\n",
              "</table>\n",
              "<p>580 rows × 11 columns</p>\n",
              "</div>\n",
              "    <div class=\"colab-df-buttons\">\n",
              "\n",
              "  <div class=\"colab-df-container\">\n",
              "    <button class=\"colab-df-convert\" onclick=\"convertToInteractive('df-5a7928ef-c89e-4bc7-8b5a-9091556fde81')\"\n",
              "            title=\"Convert this dataframe to an interactive table.\"\n",
              "            style=\"display:none;\">\n",
              "\n",
              "  <svg xmlns=\"http://www.w3.org/2000/svg\" height=\"24px\" viewBox=\"0 -960 960 960\">\n",
              "    <path d=\"M120-120v-720h720v720H120Zm60-500h600v-160H180v160Zm220 220h160v-160H400v160Zm0 220h160v-160H400v160ZM180-400h160v-160H180v160Zm440 0h160v-160H620v160ZM180-180h160v-160H180v160Zm440 0h160v-160H620v160Z\"/>\n",
              "  </svg>\n",
              "    </button>\n",
              "\n",
              "  <style>\n",
              "    .colab-df-container {\n",
              "      display:flex;\n",
              "      gap: 12px;\n",
              "    }\n",
              "\n",
              "    .colab-df-convert {\n",
              "      background-color: #E8F0FE;\n",
              "      border: none;\n",
              "      border-radius: 50%;\n",
              "      cursor: pointer;\n",
              "      display: none;\n",
              "      fill: #1967D2;\n",
              "      height: 32px;\n",
              "      padding: 0 0 0 0;\n",
              "      width: 32px;\n",
              "    }\n",
              "\n",
              "    .colab-df-convert:hover {\n",
              "      background-color: #E2EBFA;\n",
              "      box-shadow: 0px 1px 2px rgba(60, 64, 67, 0.3), 0px 1px 3px 1px rgba(60, 64, 67, 0.15);\n",
              "      fill: #174EA6;\n",
              "    }\n",
              "\n",
              "    .colab-df-buttons div {\n",
              "      margin-bottom: 4px;\n",
              "    }\n",
              "\n",
              "    [theme=dark] .colab-df-convert {\n",
              "      background-color: #3B4455;\n",
              "      fill: #D2E3FC;\n",
              "    }\n",
              "\n",
              "    [theme=dark] .colab-df-convert:hover {\n",
              "      background-color: #434B5C;\n",
              "      box-shadow: 0px 1px 3px 1px rgba(0, 0, 0, 0.15);\n",
              "      filter: drop-shadow(0px 1px 2px rgba(0, 0, 0, 0.3));\n",
              "      fill: #FFFFFF;\n",
              "    }\n",
              "  </style>\n",
              "\n",
              "    <script>\n",
              "      const buttonEl =\n",
              "        document.querySelector('#df-5a7928ef-c89e-4bc7-8b5a-9091556fde81 button.colab-df-convert');\n",
              "      buttonEl.style.display =\n",
              "        google.colab.kernel.accessAllowed ? 'block' : 'none';\n",
              "\n",
              "      async function convertToInteractive(key) {\n",
              "        const element = document.querySelector('#df-5a7928ef-c89e-4bc7-8b5a-9091556fde81');\n",
              "        const dataTable =\n",
              "          await google.colab.kernel.invokeFunction('convertToInteractive',\n",
              "                                                    [key], {});\n",
              "        if (!dataTable) return;\n",
              "\n",
              "        const docLinkHtml = 'Like what you see? Visit the ' +\n",
              "          '<a target=\"_blank\" href=https://colab.research.google.com/notebooks/data_table.ipynb>data table notebook</a>'\n",
              "          + ' to learn more about interactive tables.';\n",
              "        element.innerHTML = '';\n",
              "        dataTable['output_type'] = 'display_data';\n",
              "        await google.colab.output.renderOutput(dataTable, element);\n",
              "        const docLink = document.createElement('div');\n",
              "        docLink.innerHTML = docLinkHtml;\n",
              "        element.appendChild(docLink);\n",
              "      }\n",
              "    </script>\n",
              "  </div>\n",
              "\n",
              "\n",
              "<div id=\"df-e325e8b9-2373-47ad-99d9-0bd5d2642b38\">\n",
              "  <button class=\"colab-df-quickchart\" onclick=\"quickchart('df-e325e8b9-2373-47ad-99d9-0bd5d2642b38')\"\n",
              "            title=\"Suggest charts\"\n",
              "            style=\"display:none;\">\n",
              "\n",
              "<svg xmlns=\"http://www.w3.org/2000/svg\" height=\"24px\"viewBox=\"0 0 24 24\"\n",
              "     width=\"24px\">\n",
              "    <g>\n",
              "        <path d=\"M19 3H5c-1.1 0-2 .9-2 2v14c0 1.1.9 2 2 2h14c1.1 0 2-.9 2-2V5c0-1.1-.9-2-2-2zM9 17H7v-7h2v7zm4 0h-2V7h2v10zm4 0h-2v-4h2v4z\"/>\n",
              "    </g>\n",
              "</svg>\n",
              "  </button>\n",
              "\n",
              "<style>\n",
              "  .colab-df-quickchart {\n",
              "      --bg-color: #E8F0FE;\n",
              "      --fill-color: #1967D2;\n",
              "      --hover-bg-color: #E2EBFA;\n",
              "      --hover-fill-color: #174EA6;\n",
              "      --disabled-fill-color: #AAA;\n",
              "      --disabled-bg-color: #DDD;\n",
              "  }\n",
              "\n",
              "  [theme=dark] .colab-df-quickchart {\n",
              "      --bg-color: #3B4455;\n",
              "      --fill-color: #D2E3FC;\n",
              "      --hover-bg-color: #434B5C;\n",
              "      --hover-fill-color: #FFFFFF;\n",
              "      --disabled-bg-color: #3B4455;\n",
              "      --disabled-fill-color: #666;\n",
              "  }\n",
              "\n",
              "  .colab-df-quickchart {\n",
              "    background-color: var(--bg-color);\n",
              "    border: none;\n",
              "    border-radius: 50%;\n",
              "    cursor: pointer;\n",
              "    display: none;\n",
              "    fill: var(--fill-color);\n",
              "    height: 32px;\n",
              "    padding: 0;\n",
              "    width: 32px;\n",
              "  }\n",
              "\n",
              "  .colab-df-quickchart:hover {\n",
              "    background-color: var(--hover-bg-color);\n",
              "    box-shadow: 0 1px 2px rgba(60, 64, 67, 0.3), 0 1px 3px 1px rgba(60, 64, 67, 0.15);\n",
              "    fill: var(--button-hover-fill-color);\n",
              "  }\n",
              "\n",
              "  .colab-df-quickchart-complete:disabled,\n",
              "  .colab-df-quickchart-complete:disabled:hover {\n",
              "    background-color: var(--disabled-bg-color);\n",
              "    fill: var(--disabled-fill-color);\n",
              "    box-shadow: none;\n",
              "  }\n",
              "\n",
              "  .colab-df-spinner {\n",
              "    border: 2px solid var(--fill-color);\n",
              "    border-color: transparent;\n",
              "    border-bottom-color: var(--fill-color);\n",
              "    animation:\n",
              "      spin 1s steps(1) infinite;\n",
              "  }\n",
              "\n",
              "  @keyframes spin {\n",
              "    0% {\n",
              "      border-color: transparent;\n",
              "      border-bottom-color: var(--fill-color);\n",
              "      border-left-color: var(--fill-color);\n",
              "    }\n",
              "    20% {\n",
              "      border-color: transparent;\n",
              "      border-left-color: var(--fill-color);\n",
              "      border-top-color: var(--fill-color);\n",
              "    }\n",
              "    30% {\n",
              "      border-color: transparent;\n",
              "      border-left-color: var(--fill-color);\n",
              "      border-top-color: var(--fill-color);\n",
              "      border-right-color: var(--fill-color);\n",
              "    }\n",
              "    40% {\n",
              "      border-color: transparent;\n",
              "      border-right-color: var(--fill-color);\n",
              "      border-top-color: var(--fill-color);\n",
              "    }\n",
              "    60% {\n",
              "      border-color: transparent;\n",
              "      border-right-color: var(--fill-color);\n",
              "    }\n",
              "    80% {\n",
              "      border-color: transparent;\n",
              "      border-right-color: var(--fill-color);\n",
              "      border-bottom-color: var(--fill-color);\n",
              "    }\n",
              "    90% {\n",
              "      border-color: transparent;\n",
              "      border-bottom-color: var(--fill-color);\n",
              "    }\n",
              "  }\n",
              "</style>\n",
              "\n",
              "  <script>\n",
              "    async function quickchart(key) {\n",
              "      const quickchartButtonEl =\n",
              "        document.querySelector('#' + key + ' button');\n",
              "      quickchartButtonEl.disabled = true;  // To prevent multiple clicks.\n",
              "      quickchartButtonEl.classList.add('colab-df-spinner');\n",
              "      try {\n",
              "        const charts = await google.colab.kernel.invokeFunction(\n",
              "            'suggestCharts', [key], {});\n",
              "      } catch (error) {\n",
              "        console.error('Error during call to suggestCharts:', error);\n",
              "      }\n",
              "      quickchartButtonEl.classList.remove('colab-df-spinner');\n",
              "      quickchartButtonEl.classList.add('colab-df-quickchart-complete');\n",
              "    }\n",
              "    (() => {\n",
              "      let quickchartButtonEl =\n",
              "        document.querySelector('#df-e325e8b9-2373-47ad-99d9-0bd5d2642b38 button');\n",
              "      quickchartButtonEl.style.display =\n",
              "        google.colab.kernel.accessAllowed ? 'block' : 'none';\n",
              "    })();\n",
              "  </script>\n",
              "</div>\n",
              "\n",
              "  <div id=\"id_958e263d-f1f5-48d3-9b16-1af2931952c1\">\n",
              "    <style>\n",
              "      .colab-df-generate {\n",
              "        background-color: #E8F0FE;\n",
              "        border: none;\n",
              "        border-radius: 50%;\n",
              "        cursor: pointer;\n",
              "        display: none;\n",
              "        fill: #1967D2;\n",
              "        height: 32px;\n",
              "        padding: 0 0 0 0;\n",
              "        width: 32px;\n",
              "      }\n",
              "\n",
              "      .colab-df-generate:hover {\n",
              "        background-color: #E2EBFA;\n",
              "        box-shadow: 0px 1px 2px rgba(60, 64, 67, 0.3), 0px 1px 3px 1px rgba(60, 64, 67, 0.15);\n",
              "        fill: #174EA6;\n",
              "      }\n",
              "\n",
              "      [theme=dark] .colab-df-generate {\n",
              "        background-color: #3B4455;\n",
              "        fill: #D2E3FC;\n",
              "      }\n",
              "\n",
              "      [theme=dark] .colab-df-generate:hover {\n",
              "        background-color: #434B5C;\n",
              "        box-shadow: 0px 1px 3px 1px rgba(0, 0, 0, 0.15);\n",
              "        filter: drop-shadow(0px 1px 2px rgba(0, 0, 0, 0.3));\n",
              "        fill: #FFFFFF;\n",
              "      }\n",
              "    </style>\n",
              "    <button class=\"colab-df-generate\" onclick=\"generateWithVariable('data')\"\n",
              "            title=\"Generate code using this dataframe.\"\n",
              "            style=\"display:none;\">\n",
              "\n",
              "  <svg xmlns=\"http://www.w3.org/2000/svg\" height=\"24px\"viewBox=\"0 0 24 24\"\n",
              "       width=\"24px\">\n",
              "    <path d=\"M7,19H8.4L18.45,9,17,7.55,7,17.6ZM5,21V16.75L18.45,3.32a2,2,0,0,1,2.83,0l1.4,1.43a1.91,1.91,0,0,1,.58,1.4,1.91,1.91,0,0,1-.58,1.4L9.25,21ZM18.45,9,17,7.55Zm-12,3A5.31,5.31,0,0,0,4.9,8.1,5.31,5.31,0,0,0,1,6.5,5.31,5.31,0,0,0,4.9,4.9,5.31,5.31,0,0,0,6.5,1,5.31,5.31,0,0,0,8.1,4.9,5.31,5.31,0,0,0,12,6.5,5.46,5.46,0,0,0,6.5,12Z\"/>\n",
              "  </svg>\n",
              "    </button>\n",
              "    <script>\n",
              "      (() => {\n",
              "      const buttonEl =\n",
              "        document.querySelector('#id_958e263d-f1f5-48d3-9b16-1af2931952c1 button.colab-df-generate');\n",
              "      buttonEl.style.display =\n",
              "        google.colab.kernel.accessAllowed ? 'block' : 'none';\n",
              "\n",
              "      buttonEl.onclick = () => {\n",
              "        google.colab.notebook.generateWithVariable('data');\n",
              "      }\n",
              "      })();\n",
              "    </script>\n",
              "  </div>\n",
              "\n",
              "    </div>\n",
              "  </div>\n"
            ],
            "application/vnd.google.colaboratory.intrinsic+json": {
              "type": "dataframe",
              "variable_name": "data",
              "summary": "{\n  \"name\": \"data\",\n  \"rows\": 580,\n  \"fields\": [\n    {\n      \"column\": \"\\u00ef\\u00bb\\u00bfHotel Name\",\n      \"properties\": {\n        \"dtype\": \"string\",\n        \"num_unique_values\": 580,\n        \"samples\": [\n          \"Blossom Dormitory ( For Male and Female)\",\n          \"The Grand Uddhav\",\n          \"Hotel Savera\"\n        ],\n        \"semantic_type\": \"\",\n        \"description\": \"\"\n      }\n    },\n    {\n      \"column\": \"Rating\",\n      \"properties\": {\n        \"dtype\": \"number\",\n        \"std\": 0.3747054429581135,\n        \"min\": 1.9,\n        \"max\": 4.8,\n        \"num_unique_values\": 24,\n        \"samples\": [\n          4.6,\n          4.8,\n          3.9\n        ],\n        \"semantic_type\": \"\",\n        \"description\": \"\"\n      }\n    },\n    {\n      \"column\": \"Rating Description\",\n      \"properties\": {\n        \"dtype\": \"category\",\n        \"num_unique_values\": 5,\n        \"samples\": [\n          \"Excellent\",\n          \"Average\",\n          \"Good\"\n        ],\n        \"semantic_type\": \"\",\n        \"description\": \"\"\n      }\n    },\n    {\n      \"column\": \"Reviews\",\n      \"properties\": {\n        \"dtype\": \"number\",\n        \"std\": 1952.6183516425567,\n        \"min\": 3.0,\n        \"max\": 15697.0,\n        \"num_unique_values\": 537,\n        \"samples\": [\n          5001.0,\n          613.0,\n          435.0\n        ],\n        \"semantic_type\": \"\",\n        \"description\": \"\"\n      }\n    },\n    {\n      \"column\": \"Star Rating\",\n      \"properties\": {\n        \"dtype\": \"number\",\n        \"std\": 0.8611788643369486,\n        \"min\": 2.0,\n        \"max\": 5.0,\n        \"num_unique_values\": 4,\n        \"samples\": [\n          4.0,\n          2.0,\n          5.0\n        ],\n        \"semantic_type\": \"\",\n        \"description\": \"\"\n      }\n    },\n    {\n      \"column\": \"Location\",\n      \"properties\": {\n        \"dtype\": \"category\",\n        \"num_unique_values\": 215,\n        \"samples\": [\n          \"Juhu \",\n          \"Asalpha \",\n          \"Lakdikapul\"\n        ],\n        \"semantic_type\": \"\",\n        \"description\": \"\"\n      }\n    },\n    {\n      \"column\": \"Nearest Landmark\",\n      \"properties\": {\n        \"dtype\": \"category\",\n        \"num_unique_values\": 44,\n        \"samples\": [\n          \"T2 - Chhatrapati Shivaji International Airport\",\n          \"Rajiv Gandhi International Airport\",\n          \"Secunderabad Junction Railway Station \"\n        ],\n        \"semantic_type\": \"\",\n        \"description\": \"\"\n      }\n    },\n    {\n      \"column\": \"Distance to Landmark\",\n      \"properties\": {\n        \"dtype\": \"category\",\n        \"num_unique_values\": 141,\n        \"samples\": [\n          \"7.0 km \",\n          \"250 m \",\n          \"7.8 km \"\n        ],\n        \"semantic_type\": \"\",\n        \"description\": \"\"\n      }\n    },\n    {\n      \"column\": \"Price\",\n      \"properties\": {\n        \"dtype\": \"string\",\n        \"num_unique_values\": 483,\n        \"samples\": [\n          \"3,939\",\n          \"5,583\",\n          \"2,349\"\n        ],\n        \"semantic_type\": \"\",\n        \"description\": \"\"\n      }\n    },\n    {\n      \"column\": \"Tax\",\n      \"properties\": {\n        \"dtype\": \"string\",\n        \"num_unique_values\": 325,\n        \"samples\": [\n          \"1,006\",\n          \"976\",\n          \"672\"\n        ],\n        \"semantic_type\": \"\",\n        \"description\": \"\"\n      }\n    },\n    {\n      \"column\": \"state\",\n      \"properties\": {\n        \"dtype\": \"category\",\n        \"num_unique_values\": 6,\n        \"samples\": [\n          \"bangalore\",\n          \"chennai\",\n          \"mumbai\"\n        ],\n        \"semantic_type\": \"\",\n        \"description\": \"\"\n      }\n    }\n  ]\n}"
            }
          },
          "metadata": {},
          "execution_count": 140
        }
      ]
    },
    {
      "cell_type": "markdown",
      "source": [
        "DATA CLEANING AND PREPROCESSING"
      ],
      "metadata": {
        "id": "IVIIATzH0hxC"
      }
    },
    {
      "cell_type": "code",
      "source": [
        "data.columns"
      ],
      "metadata": {
        "colab": {
          "base_uri": "https://localhost:8080/"
        },
        "id": "2_jqR4Mv0fRG",
        "outputId": "d02e84e0-3764-41bc-9aa9-22467ee6a98b"
      },
      "execution_count": 141,
      "outputs": [
        {
          "output_type": "execute_result",
          "data": {
            "text/plain": [
              "Index(['ï»¿Hotel Name', 'Rating', 'Rating Description', 'Reviews',\n",
              "       'Star Rating', 'Location', 'Nearest Landmark', 'Distance to Landmark',\n",
              "       'Price', 'Tax', 'state'],\n",
              "      dtype='object')"
            ]
          },
          "metadata": {},
          "execution_count": 141
        }
      ]
    },
    {
      "cell_type": "code",
      "source": [
        "data.rename(columns={\"ï»¿Hotel Name\":\"Name\",\"Rating Description\":\"RD\",\"Nearest Landmark\":\"NL\",\"Distance to Landmark\":\"DL\" },inplace=True)"
      ],
      "metadata": {
        "id": "tr0xvEXU03id"
      },
      "execution_count": 142,
      "outputs": []
    },
    {
      "cell_type": "code",
      "source": [
        "data.info()"
      ],
      "metadata": {
        "colab": {
          "base_uri": "https://localhost:8080/"
        },
        "id": "Sn6taRu006Lo",
        "outputId": "c4b2855f-bdb2-478d-cf0c-5050672f1428"
      },
      "execution_count": 143,
      "outputs": [
        {
          "output_type": "stream",
          "name": "stdout",
          "text": [
            "<class 'pandas.core.frame.DataFrame'>\n",
            "RangeIndex: 580 entries, 0 to 579\n",
            "Data columns (total 11 columns):\n",
            " #   Column       Non-Null Count  Dtype  \n",
            "---  ------       --------------  -----  \n",
            " 0   Name         580 non-null    object \n",
            " 1   Rating       579 non-null    float64\n",
            " 2   RD           579 non-null    object \n",
            " 3   Reviews      579 non-null    float64\n",
            " 4   Star Rating  485 non-null    float64\n",
            " 5   Location     580 non-null    object \n",
            " 6   NL           290 non-null    object \n",
            " 7   DL           290 non-null    object \n",
            " 8   Price        580 non-null    object \n",
            " 9   Tax          404 non-null    object \n",
            " 10  state        580 non-null    object \n",
            "dtypes: float64(3), object(8)\n",
            "memory usage: 50.0+ KB\n"
          ]
        }
      ]
    },
    {
      "cell_type": "code",
      "source": [
        "\n",
        "data['Price']=pd.to_numeric(data['Price'].str.replace(',','',regex=True).str.strip())\n",
        "data['Tax']=pd.to_numeric(data['Tax'].str.replace(',','',regex=True).str.strip())\n",
        "data.info()"
      ],
      "metadata": {
        "colab": {
          "base_uri": "https://localhost:8080/"
        },
        "id": "EgHJZWyu1EsX",
        "outputId": "6c2c8fa8-4bea-4938-cc89-d1f870fd9db8"
      },
      "execution_count": 144,
      "outputs": [
        {
          "output_type": "stream",
          "name": "stdout",
          "text": [
            "<class 'pandas.core.frame.DataFrame'>\n",
            "RangeIndex: 580 entries, 0 to 579\n",
            "Data columns (total 11 columns):\n",
            " #   Column       Non-Null Count  Dtype  \n",
            "---  ------       --------------  -----  \n",
            " 0   Name         580 non-null    object \n",
            " 1   Rating       579 non-null    float64\n",
            " 2   RD           579 non-null    object \n",
            " 3   Reviews      579 non-null    float64\n",
            " 4   Star Rating  485 non-null    float64\n",
            " 5   Location     580 non-null    object \n",
            " 6   NL           290 non-null    object \n",
            " 7   DL           290 non-null    object \n",
            " 8   Price        580 non-null    int64  \n",
            " 9   Tax          404 non-null    float64\n",
            " 10  state        580 non-null    object \n",
            "dtypes: float64(4), int64(1), object(6)\n",
            "memory usage: 50.0+ KB\n"
          ]
        }
      ]
    },
    {
      "cell_type": "code",
      "source": [
        "for col in data.columns :\n",
        "  if data[col].dtype=='object':\n",
        "    data[col]=encoder.fit_transform(data[col])\n",
        "data.drop(['Location','NL','DL'], axis=1, inplace=True)\n",
        "data=data.fillna(0)\n",
        "data.info()\n"
      ],
      "metadata": {
        "colab": {
          "base_uri": "https://localhost:8080/"
        },
        "id": "S7kuq4ur1Hjw",
        "outputId": "eb49c4cd-b41b-4b0e-b7e0-27096cbbe062"
      },
      "execution_count": 145,
      "outputs": [
        {
          "output_type": "stream",
          "name": "stdout",
          "text": [
            "<class 'pandas.core.frame.DataFrame'>\n",
            "RangeIndex: 580 entries, 0 to 579\n",
            "Data columns (total 8 columns):\n",
            " #   Column       Non-Null Count  Dtype  \n",
            "---  ------       --------------  -----  \n",
            " 0   Name         580 non-null    int64  \n",
            " 1   Rating       580 non-null    float64\n",
            " 2   RD           580 non-null    int64  \n",
            " 3   Reviews      580 non-null    float64\n",
            " 4   Star Rating  580 non-null    float64\n",
            " 5   Price        580 non-null    int64  \n",
            " 6   Tax          580 non-null    float64\n",
            " 7   state        580 non-null    int64  \n",
            "dtypes: float64(4), int64(4)\n",
            "memory usage: 36.4 KB\n"
          ]
        }
      ]
    },
    {
      "cell_type": "code",
      "source": [
        "data"
      ],
      "metadata": {
        "colab": {
          "base_uri": "https://localhost:8080/",
          "height": 424
        },
        "id": "yV8_-SLF1dmf",
        "outputId": "402b63eb-617a-47f6-9518-6def23031f25"
      },
      "execution_count": 146,
      "outputs": [
        {
          "output_type": "execute_result",
          "data": {
            "text/plain": [
              "     Name  Rating  RD  Reviews  Star Rating  Price     Tax  state\n",
              "0     509     3.9   4   4187.0          5.0   7567  2254.0      1\n",
              "1     268     4.0   4   2201.0          4.0   1509   531.0      1\n",
              "2     237     4.4   1   1315.0          5.0   9900     0.0      1\n",
              "3     290     4.0   4   5089.0          5.0   2347   918.0      1\n",
              "4     265     4.0   4   3290.0          4.0   2522  1014.0      1\n",
              "..    ...     ...  ..      ...          ...    ...     ...    ...\n",
              "575    34     3.6   4    214.0          0.0    678   189.0      5\n",
              "576    50     3.9   4    963.0          4.0   4743  1122.0      5\n",
              "577   194     3.8   4   1064.0          3.0   3726  1028.0      5\n",
              "578   182     4.1   4   2183.0          4.0   7250     0.0      5\n",
              "579   387     4.0   4   1866.0          4.0   4883  1155.0      5\n",
              "\n",
              "[580 rows x 8 columns]"
            ],
            "text/html": [
              "\n",
              "  <div id=\"df-1b0ace1c-39ca-4e22-bd99-7ef148fe3bfb\" class=\"colab-df-container\">\n",
              "    <div>\n",
              "<style scoped>\n",
              "    .dataframe tbody tr th:only-of-type {\n",
              "        vertical-align: middle;\n",
              "    }\n",
              "\n",
              "    .dataframe tbody tr th {\n",
              "        vertical-align: top;\n",
              "    }\n",
              "\n",
              "    .dataframe thead th {\n",
              "        text-align: right;\n",
              "    }\n",
              "</style>\n",
              "<table border=\"1\" class=\"dataframe\">\n",
              "  <thead>\n",
              "    <tr style=\"text-align: right;\">\n",
              "      <th></th>\n",
              "      <th>Name</th>\n",
              "      <th>Rating</th>\n",
              "      <th>RD</th>\n",
              "      <th>Reviews</th>\n",
              "      <th>Star Rating</th>\n",
              "      <th>Price</th>\n",
              "      <th>Tax</th>\n",
              "      <th>state</th>\n",
              "    </tr>\n",
              "  </thead>\n",
              "  <tbody>\n",
              "    <tr>\n",
              "      <th>0</th>\n",
              "      <td>509</td>\n",
              "      <td>3.9</td>\n",
              "      <td>4</td>\n",
              "      <td>4187.0</td>\n",
              "      <td>5.0</td>\n",
              "      <td>7567</td>\n",
              "      <td>2254.0</td>\n",
              "      <td>1</td>\n",
              "    </tr>\n",
              "    <tr>\n",
              "      <th>1</th>\n",
              "      <td>268</td>\n",
              "      <td>4.0</td>\n",
              "      <td>4</td>\n",
              "      <td>2201.0</td>\n",
              "      <td>4.0</td>\n",
              "      <td>1509</td>\n",
              "      <td>531.0</td>\n",
              "      <td>1</td>\n",
              "    </tr>\n",
              "    <tr>\n",
              "      <th>2</th>\n",
              "      <td>237</td>\n",
              "      <td>4.4</td>\n",
              "      <td>1</td>\n",
              "      <td>1315.0</td>\n",
              "      <td>5.0</td>\n",
              "      <td>9900</td>\n",
              "      <td>0.0</td>\n",
              "      <td>1</td>\n",
              "    </tr>\n",
              "    <tr>\n",
              "      <th>3</th>\n",
              "      <td>290</td>\n",
              "      <td>4.0</td>\n",
              "      <td>4</td>\n",
              "      <td>5089.0</td>\n",
              "      <td>5.0</td>\n",
              "      <td>2347</td>\n",
              "      <td>918.0</td>\n",
              "      <td>1</td>\n",
              "    </tr>\n",
              "    <tr>\n",
              "      <th>4</th>\n",
              "      <td>265</td>\n",
              "      <td>4.0</td>\n",
              "      <td>4</td>\n",
              "      <td>3290.0</td>\n",
              "      <td>4.0</td>\n",
              "      <td>2522</td>\n",
              "      <td>1014.0</td>\n",
              "      <td>1</td>\n",
              "    </tr>\n",
              "    <tr>\n",
              "      <th>...</th>\n",
              "      <td>...</td>\n",
              "      <td>...</td>\n",
              "      <td>...</td>\n",
              "      <td>...</td>\n",
              "      <td>...</td>\n",
              "      <td>...</td>\n",
              "      <td>...</td>\n",
              "      <td>...</td>\n",
              "    </tr>\n",
              "    <tr>\n",
              "      <th>575</th>\n",
              "      <td>34</td>\n",
              "      <td>3.6</td>\n",
              "      <td>4</td>\n",
              "      <td>214.0</td>\n",
              "      <td>0.0</td>\n",
              "      <td>678</td>\n",
              "      <td>189.0</td>\n",
              "      <td>5</td>\n",
              "    </tr>\n",
              "    <tr>\n",
              "      <th>576</th>\n",
              "      <td>50</td>\n",
              "      <td>3.9</td>\n",
              "      <td>4</td>\n",
              "      <td>963.0</td>\n",
              "      <td>4.0</td>\n",
              "      <td>4743</td>\n",
              "      <td>1122.0</td>\n",
              "      <td>5</td>\n",
              "    </tr>\n",
              "    <tr>\n",
              "      <th>577</th>\n",
              "      <td>194</td>\n",
              "      <td>3.8</td>\n",
              "      <td>4</td>\n",
              "      <td>1064.0</td>\n",
              "      <td>3.0</td>\n",
              "      <td>3726</td>\n",
              "      <td>1028.0</td>\n",
              "      <td>5</td>\n",
              "    </tr>\n",
              "    <tr>\n",
              "      <th>578</th>\n",
              "      <td>182</td>\n",
              "      <td>4.1</td>\n",
              "      <td>4</td>\n",
              "      <td>2183.0</td>\n",
              "      <td>4.0</td>\n",
              "      <td>7250</td>\n",
              "      <td>0.0</td>\n",
              "      <td>5</td>\n",
              "    </tr>\n",
              "    <tr>\n",
              "      <th>579</th>\n",
              "      <td>387</td>\n",
              "      <td>4.0</td>\n",
              "      <td>4</td>\n",
              "      <td>1866.0</td>\n",
              "      <td>4.0</td>\n",
              "      <td>4883</td>\n",
              "      <td>1155.0</td>\n",
              "      <td>5</td>\n",
              "    </tr>\n",
              "  </tbody>\n",
              "</table>\n",
              "<p>580 rows × 8 columns</p>\n",
              "</div>\n",
              "    <div class=\"colab-df-buttons\">\n",
              "\n",
              "  <div class=\"colab-df-container\">\n",
              "    <button class=\"colab-df-convert\" onclick=\"convertToInteractive('df-1b0ace1c-39ca-4e22-bd99-7ef148fe3bfb')\"\n",
              "            title=\"Convert this dataframe to an interactive table.\"\n",
              "            style=\"display:none;\">\n",
              "\n",
              "  <svg xmlns=\"http://www.w3.org/2000/svg\" height=\"24px\" viewBox=\"0 -960 960 960\">\n",
              "    <path d=\"M120-120v-720h720v720H120Zm60-500h600v-160H180v160Zm220 220h160v-160H400v160Zm0 220h160v-160H400v160ZM180-400h160v-160H180v160Zm440 0h160v-160H620v160ZM180-180h160v-160H180v160Zm440 0h160v-160H620v160Z\"/>\n",
              "  </svg>\n",
              "    </button>\n",
              "\n",
              "  <style>\n",
              "    .colab-df-container {\n",
              "      display:flex;\n",
              "      gap: 12px;\n",
              "    }\n",
              "\n",
              "    .colab-df-convert {\n",
              "      background-color: #E8F0FE;\n",
              "      border: none;\n",
              "      border-radius: 50%;\n",
              "      cursor: pointer;\n",
              "      display: none;\n",
              "      fill: #1967D2;\n",
              "      height: 32px;\n",
              "      padding: 0 0 0 0;\n",
              "      width: 32px;\n",
              "    }\n",
              "\n",
              "    .colab-df-convert:hover {\n",
              "      background-color: #E2EBFA;\n",
              "      box-shadow: 0px 1px 2px rgba(60, 64, 67, 0.3), 0px 1px 3px 1px rgba(60, 64, 67, 0.15);\n",
              "      fill: #174EA6;\n",
              "    }\n",
              "\n",
              "    .colab-df-buttons div {\n",
              "      margin-bottom: 4px;\n",
              "    }\n",
              "\n",
              "    [theme=dark] .colab-df-convert {\n",
              "      background-color: #3B4455;\n",
              "      fill: #D2E3FC;\n",
              "    }\n",
              "\n",
              "    [theme=dark] .colab-df-convert:hover {\n",
              "      background-color: #434B5C;\n",
              "      box-shadow: 0px 1px 3px 1px rgba(0, 0, 0, 0.15);\n",
              "      filter: drop-shadow(0px 1px 2px rgba(0, 0, 0, 0.3));\n",
              "      fill: #FFFFFF;\n",
              "    }\n",
              "  </style>\n",
              "\n",
              "    <script>\n",
              "      const buttonEl =\n",
              "        document.querySelector('#df-1b0ace1c-39ca-4e22-bd99-7ef148fe3bfb button.colab-df-convert');\n",
              "      buttonEl.style.display =\n",
              "        google.colab.kernel.accessAllowed ? 'block' : 'none';\n",
              "\n",
              "      async function convertToInteractive(key) {\n",
              "        const element = document.querySelector('#df-1b0ace1c-39ca-4e22-bd99-7ef148fe3bfb');\n",
              "        const dataTable =\n",
              "          await google.colab.kernel.invokeFunction('convertToInteractive',\n",
              "                                                    [key], {});\n",
              "        if (!dataTable) return;\n",
              "\n",
              "        const docLinkHtml = 'Like what you see? Visit the ' +\n",
              "          '<a target=\"_blank\" href=https://colab.research.google.com/notebooks/data_table.ipynb>data table notebook</a>'\n",
              "          + ' to learn more about interactive tables.';\n",
              "        element.innerHTML = '';\n",
              "        dataTable['output_type'] = 'display_data';\n",
              "        await google.colab.output.renderOutput(dataTable, element);\n",
              "        const docLink = document.createElement('div');\n",
              "        docLink.innerHTML = docLinkHtml;\n",
              "        element.appendChild(docLink);\n",
              "      }\n",
              "    </script>\n",
              "  </div>\n",
              "\n",
              "\n",
              "<div id=\"df-dfbad7f0-6f95-406f-9d1e-335eb654c658\">\n",
              "  <button class=\"colab-df-quickchart\" onclick=\"quickchart('df-dfbad7f0-6f95-406f-9d1e-335eb654c658')\"\n",
              "            title=\"Suggest charts\"\n",
              "            style=\"display:none;\">\n",
              "\n",
              "<svg xmlns=\"http://www.w3.org/2000/svg\" height=\"24px\"viewBox=\"0 0 24 24\"\n",
              "     width=\"24px\">\n",
              "    <g>\n",
              "        <path d=\"M19 3H5c-1.1 0-2 .9-2 2v14c0 1.1.9 2 2 2h14c1.1 0 2-.9 2-2V5c0-1.1-.9-2-2-2zM9 17H7v-7h2v7zm4 0h-2V7h2v10zm4 0h-2v-4h2v4z\"/>\n",
              "    </g>\n",
              "</svg>\n",
              "  </button>\n",
              "\n",
              "<style>\n",
              "  .colab-df-quickchart {\n",
              "      --bg-color: #E8F0FE;\n",
              "      --fill-color: #1967D2;\n",
              "      --hover-bg-color: #E2EBFA;\n",
              "      --hover-fill-color: #174EA6;\n",
              "      --disabled-fill-color: #AAA;\n",
              "      --disabled-bg-color: #DDD;\n",
              "  }\n",
              "\n",
              "  [theme=dark] .colab-df-quickchart {\n",
              "      --bg-color: #3B4455;\n",
              "      --fill-color: #D2E3FC;\n",
              "      --hover-bg-color: #434B5C;\n",
              "      --hover-fill-color: #FFFFFF;\n",
              "      --disabled-bg-color: #3B4455;\n",
              "      --disabled-fill-color: #666;\n",
              "  }\n",
              "\n",
              "  .colab-df-quickchart {\n",
              "    background-color: var(--bg-color);\n",
              "    border: none;\n",
              "    border-radius: 50%;\n",
              "    cursor: pointer;\n",
              "    display: none;\n",
              "    fill: var(--fill-color);\n",
              "    height: 32px;\n",
              "    padding: 0;\n",
              "    width: 32px;\n",
              "  }\n",
              "\n",
              "  .colab-df-quickchart:hover {\n",
              "    background-color: var(--hover-bg-color);\n",
              "    box-shadow: 0 1px 2px rgba(60, 64, 67, 0.3), 0 1px 3px 1px rgba(60, 64, 67, 0.15);\n",
              "    fill: var(--button-hover-fill-color);\n",
              "  }\n",
              "\n",
              "  .colab-df-quickchart-complete:disabled,\n",
              "  .colab-df-quickchart-complete:disabled:hover {\n",
              "    background-color: var(--disabled-bg-color);\n",
              "    fill: var(--disabled-fill-color);\n",
              "    box-shadow: none;\n",
              "  }\n",
              "\n",
              "  .colab-df-spinner {\n",
              "    border: 2px solid var(--fill-color);\n",
              "    border-color: transparent;\n",
              "    border-bottom-color: var(--fill-color);\n",
              "    animation:\n",
              "      spin 1s steps(1) infinite;\n",
              "  }\n",
              "\n",
              "  @keyframes spin {\n",
              "    0% {\n",
              "      border-color: transparent;\n",
              "      border-bottom-color: var(--fill-color);\n",
              "      border-left-color: var(--fill-color);\n",
              "    }\n",
              "    20% {\n",
              "      border-color: transparent;\n",
              "      border-left-color: var(--fill-color);\n",
              "      border-top-color: var(--fill-color);\n",
              "    }\n",
              "    30% {\n",
              "      border-color: transparent;\n",
              "      border-left-color: var(--fill-color);\n",
              "      border-top-color: var(--fill-color);\n",
              "      border-right-color: var(--fill-color);\n",
              "    }\n",
              "    40% {\n",
              "      border-color: transparent;\n",
              "      border-right-color: var(--fill-color);\n",
              "      border-top-color: var(--fill-color);\n",
              "    }\n",
              "    60% {\n",
              "      border-color: transparent;\n",
              "      border-right-color: var(--fill-color);\n",
              "    }\n",
              "    80% {\n",
              "      border-color: transparent;\n",
              "      border-right-color: var(--fill-color);\n",
              "      border-bottom-color: var(--fill-color);\n",
              "    }\n",
              "    90% {\n",
              "      border-color: transparent;\n",
              "      border-bottom-color: var(--fill-color);\n",
              "    }\n",
              "  }\n",
              "</style>\n",
              "\n",
              "  <script>\n",
              "    async function quickchart(key) {\n",
              "      const quickchartButtonEl =\n",
              "        document.querySelector('#' + key + ' button');\n",
              "      quickchartButtonEl.disabled = true;  // To prevent multiple clicks.\n",
              "      quickchartButtonEl.classList.add('colab-df-spinner');\n",
              "      try {\n",
              "        const charts = await google.colab.kernel.invokeFunction(\n",
              "            'suggestCharts', [key], {});\n",
              "      } catch (error) {\n",
              "        console.error('Error during call to suggestCharts:', error);\n",
              "      }\n",
              "      quickchartButtonEl.classList.remove('colab-df-spinner');\n",
              "      quickchartButtonEl.classList.add('colab-df-quickchart-complete');\n",
              "    }\n",
              "    (() => {\n",
              "      let quickchartButtonEl =\n",
              "        document.querySelector('#df-dfbad7f0-6f95-406f-9d1e-335eb654c658 button');\n",
              "      quickchartButtonEl.style.display =\n",
              "        google.colab.kernel.accessAllowed ? 'block' : 'none';\n",
              "    })();\n",
              "  </script>\n",
              "</div>\n",
              "\n",
              "  <div id=\"id_571c9e4a-22cc-443f-bd70-6446aca92173\">\n",
              "    <style>\n",
              "      .colab-df-generate {\n",
              "        background-color: #E8F0FE;\n",
              "        border: none;\n",
              "        border-radius: 50%;\n",
              "        cursor: pointer;\n",
              "        display: none;\n",
              "        fill: #1967D2;\n",
              "        height: 32px;\n",
              "        padding: 0 0 0 0;\n",
              "        width: 32px;\n",
              "      }\n",
              "\n",
              "      .colab-df-generate:hover {\n",
              "        background-color: #E2EBFA;\n",
              "        box-shadow: 0px 1px 2px rgba(60, 64, 67, 0.3), 0px 1px 3px 1px rgba(60, 64, 67, 0.15);\n",
              "        fill: #174EA6;\n",
              "      }\n",
              "\n",
              "      [theme=dark] .colab-df-generate {\n",
              "        background-color: #3B4455;\n",
              "        fill: #D2E3FC;\n",
              "      }\n",
              "\n",
              "      [theme=dark] .colab-df-generate:hover {\n",
              "        background-color: #434B5C;\n",
              "        box-shadow: 0px 1px 3px 1px rgba(0, 0, 0, 0.15);\n",
              "        filter: drop-shadow(0px 1px 2px rgba(0, 0, 0, 0.3));\n",
              "        fill: #FFFFFF;\n",
              "      }\n",
              "    </style>\n",
              "    <button class=\"colab-df-generate\" onclick=\"generateWithVariable('data')\"\n",
              "            title=\"Generate code using this dataframe.\"\n",
              "            style=\"display:none;\">\n",
              "\n",
              "  <svg xmlns=\"http://www.w3.org/2000/svg\" height=\"24px\"viewBox=\"0 0 24 24\"\n",
              "       width=\"24px\">\n",
              "    <path d=\"M7,19H8.4L18.45,9,17,7.55,7,17.6ZM5,21V16.75L18.45,3.32a2,2,0,0,1,2.83,0l1.4,1.43a1.91,1.91,0,0,1,.58,1.4,1.91,1.91,0,0,1-.58,1.4L9.25,21ZM18.45,9,17,7.55Zm-12,3A5.31,5.31,0,0,0,4.9,8.1,5.31,5.31,0,0,0,1,6.5,5.31,5.31,0,0,0,4.9,4.9,5.31,5.31,0,0,0,6.5,1,5.31,5.31,0,0,0,8.1,4.9,5.31,5.31,0,0,0,12,6.5,5.46,5.46,0,0,0,6.5,12Z\"/>\n",
              "  </svg>\n",
              "    </button>\n",
              "    <script>\n",
              "      (() => {\n",
              "      const buttonEl =\n",
              "        document.querySelector('#id_571c9e4a-22cc-443f-bd70-6446aca92173 button.colab-df-generate');\n",
              "      buttonEl.style.display =\n",
              "        google.colab.kernel.accessAllowed ? 'block' : 'none';\n",
              "\n",
              "      buttonEl.onclick = () => {\n",
              "        google.colab.notebook.generateWithVariable('data');\n",
              "      }\n",
              "      })();\n",
              "    </script>\n",
              "  </div>\n",
              "\n",
              "    </div>\n",
              "  </div>\n"
            ],
            "application/vnd.google.colaboratory.intrinsic+json": {
              "type": "dataframe",
              "variable_name": "data",
              "summary": "{\n  \"name\": \"data\",\n  \"rows\": 580,\n  \"fields\": [\n    {\n      \"column\": \"Name\",\n      \"properties\": {\n        \"dtype\": \"number\",\n        \"std\": 167,\n        \"min\": 0,\n        \"max\": 579,\n        \"num_unique_values\": 580,\n        \"samples\": [\n          34,\n          477,\n          199\n        ],\n        \"semantic_type\": \"\",\n        \"description\": \"\"\n      }\n    },\n    {\n      \"column\": \"Rating\",\n      \"properties\": {\n        \"dtype\": \"number\",\n        \"std\": 0.40919028858909134,\n        \"min\": 0.0,\n        \"max\": 4.8,\n        \"num_unique_values\": 25,\n        \"samples\": [\n          4.6,\n          3.3,\n          3.9\n        ],\n        \"semantic_type\": \"\",\n        \"description\": \"\"\n      }\n    },\n    {\n      \"column\": \"RD\",\n      \"properties\": {\n        \"dtype\": \"number\",\n        \"std\": 1,\n        \"min\": 0,\n        \"max\": 5,\n        \"num_unique_values\": 6,\n        \"samples\": [\n          4,\n          1,\n          0\n        ],\n        \"semantic_type\": \"\",\n        \"description\": \"\"\n      }\n    },\n    {\n      \"column\": \"Reviews\",\n      \"properties\": {\n        \"dtype\": \"number\",\n        \"std\": 1952.315863036304,\n        \"min\": 0.0,\n        \"max\": 15697.0,\n        \"num_unique_values\": 538,\n        \"samples\": [\n          362.0,\n          47.0,\n          435.0\n        ],\n        \"semantic_type\": \"\",\n        \"description\": \"\"\n      }\n    },\n    {\n      \"column\": \"Star Rating\",\n      \"properties\": {\n        \"dtype\": \"number\",\n        \"std\": 1.6812195915790669,\n        \"min\": 0.0,\n        \"max\": 5.0,\n        \"num_unique_values\": 5,\n        \"samples\": [\n          4.0,\n          2.0,\n          3.0\n        ],\n        \"semantic_type\": \"\",\n        \"description\": \"\"\n      }\n    },\n    {\n      \"column\": \"Price\",\n      \"properties\": {\n        \"dtype\": \"number\",\n        \"std\": 6338,\n        \"min\": 404,\n        \"max\": 125000,\n        \"num_unique_values\": 483,\n        \"samples\": [\n          3939,\n          5583,\n          2349\n        ],\n        \"semantic_type\": \"\",\n        \"description\": \"\"\n      }\n    },\n    {\n      \"column\": \"Tax\",\n      \"properties\": {\n        \"dtype\": \"number\",\n        \"std\": 641.5450471150217,\n        \"min\": 0.0,\n        \"max\": 7812.0,\n        \"num_unique_values\": 326,\n        \"samples\": [\n          950.0,\n          428.0,\n          672.0\n        ],\n        \"semantic_type\": \"\",\n        \"description\": \"\"\n      }\n    },\n    {\n      \"column\": \"state\",\n      \"properties\": {\n        \"dtype\": \"number\",\n        \"std\": 1,\n        \"min\": 0,\n        \"max\": 5,\n        \"num_unique_values\": 6,\n        \"samples\": [\n          1,\n          2,\n          5\n        ],\n        \"semantic_type\": \"\",\n        \"description\": \"\"\n      }\n    }\n  ]\n}"
            }
          },
          "metadata": {},
          "execution_count": 146
        }
      ]
    },
    {
      "cell_type": "code",
      "source": [
        "sns.barplot(x='Rating',y='Price',data=data)\n",
        "plt.xticks(rotation=90)"
      ],
      "metadata": {
        "colab": {
          "base_uri": "https://localhost:8080/",
          "height": 1000
        },
        "id": "Oodsyr3P078N",
        "outputId": "8ba84b42-a5f2-4891-ca6d-bbbd0e7266f7"
      },
      "execution_count": 147,
      "outputs": [
        {
          "output_type": "execute_result",
          "data": {
            "text/plain": [
              "([0,\n",
              "  1,\n",
              "  2,\n",
              "  3,\n",
              "  4,\n",
              "  5,\n",
              "  6,\n",
              "  7,\n",
              "  8,\n",
              "  9,\n",
              "  10,\n",
              "  11,\n",
              "  12,\n",
              "  13,\n",
              "  14,\n",
              "  15,\n",
              "  16,\n",
              "  17,\n",
              "  18,\n",
              "  19,\n",
              "  20,\n",
              "  21,\n",
              "  22,\n",
              "  23,\n",
              "  24],\n",
              " [Text(0, 0, '0.0'),\n",
              "  Text(1, 0, '1.9'),\n",
              "  Text(2, 0, '2.3'),\n",
              "  Text(3, 0, '2.5'),\n",
              "  Text(4, 0, '2.7'),\n",
              "  Text(5, 0, '2.8'),\n",
              "  Text(6, 0, '3.0'),\n",
              "  Text(7, 0, '3.1'),\n",
              "  Text(8, 0, '3.2'),\n",
              "  Text(9, 0, '3.3'),\n",
              "  Text(10, 0, '3.4'),\n",
              "  Text(11, 0, '3.5'),\n",
              "  Text(12, 0, '3.6'),\n",
              "  Text(13, 0, '3.7'),\n",
              "  Text(14, 0, '3.8'),\n",
              "  Text(15, 0, '3.9'),\n",
              "  Text(16, 0, '4.0'),\n",
              "  Text(17, 0, '4.1'),\n",
              "  Text(18, 0, '4.2'),\n",
              "  Text(19, 0, '4.3'),\n",
              "  Text(20, 0, '4.4'),\n",
              "  Text(21, 0, '4.5'),\n",
              "  Text(22, 0, '4.6'),\n",
              "  Text(23, 0, '4.7'),\n",
              "  Text(24, 0, '4.8')])"
            ]
          },
          "metadata": {},
          "execution_count": 147
        },
        {
          "output_type": "display_data",
          "data": {
            "text/plain": [
              "<Figure size 640x480 with 1 Axes>"
            ],
            "image/png": "[encoded data removed]"
          },
          "metadata": {}
        }
      ]
    },
    {
      "cell_type": "code",
      "source": [
        "sns.heatmap(data.corr(),annot=True)"
      ],
      "metadata": {
        "colab": {
          "base_uri": "https://localhost:8080/",
          "height": 528
        },
        "id": "aSUlY_AA0-ZG",
        "outputId": "7c0b7098-ff30-4365-b08d-c60bc34fcbeb"
      },
      "execution_count": 148,
      "outputs": [
        {
          "output_type": "execute_result",
          "data": {
            "text/plain": [
              "<Axes: >"
            ]
          },
          "metadata": {},
          "execution_count": 148
        },
        {
          "output_type": "display_data",
          "data": {
            "text/plain": [
              "<Figure size 640x480 with 2 Axes>"
            ],
            "image/png": "[encoded data removed]"
          },
          "metadata": {}
        }
      ]
    },
    {
      "cell_type": "markdown",
      "source": [
        "DATA SPLITTING"
      ],
      "metadata": {
        "id": "TgVp2bBb1rt1"
      }
    },
    {
      "cell_type": "code",
      "source": [
        "x=data.drop('Name',axis=1)\n",
        "y=data['Name']\n",
        "print(x)\n",
        "print(y)"
      ],
      "metadata": {
        "colab": {
          "base_uri": "https://localhost:8080/"
        },
        "id": "WMFS-zsU1vyh",
        "outputId": "b141a243-779a-4088-95d8-27b10c04dc29"
      },
      "execution_count": 149,
      "outputs": [
        {
          "output_type": "stream",
          "name": "stdout",
          "text": [
            "     Rating  RD  Reviews  Star Rating  Price     Tax  state\n",
            "0       3.9   4   4187.0          5.0   7567  2254.0      1\n",
            "1       4.0   4   2201.0          4.0   1509   531.0      1\n",
            "2       4.4   1   1315.0          5.0   9900     0.0      1\n",
            "3       4.0   4   5089.0          5.0   2347   918.0      1\n",
            "4       4.0   4   3290.0          4.0   2522  1014.0      1\n",
            "..      ...  ..      ...          ...    ...     ...    ...\n",
            "575     3.6   4    214.0          0.0    678   189.0      5\n",
            "576     3.9   4    963.0          4.0   4743  1122.0      5\n",
            "577     3.8   4   1064.0          3.0   3726  1028.0      5\n",
            "578     4.1   4   2183.0          4.0   7250     0.0      5\n",
            "579     4.0   4   1866.0          4.0   4883  1155.0      5\n",
            "\n",
            "[580 rows x 7 columns]\n",
            "0      509\n",
            "1      268\n",
            "2      237\n",
            "3      290\n",
            "4      265\n",
            "      ... \n",
            "575     34\n",
            "576     50\n",
            "577    194\n",
            "578    182\n",
            "579    387\n",
            "Name: Name, Length: 580, dtype: int64\n"
          ]
        }
      ]
    },
    {
      "cell_type": "code",
      "source": [
        "from sklearn.model_selection import train_test_split\n",
        "x_train, x_test, y_train, y_test = train_test_split(x,y,test_size=0.3,random_state=123)"
      ],
      "metadata": {
        "id": "OQ3TZcjq10qP"
      },
      "execution_count": 150,
      "outputs": []
    },
    {
      "cell_type": "markdown",
      "source": [
        "ML ALGORITHMS : without scaling"
      ],
      "metadata": {
        "id": "Y0Vqdl9P1kdU"
      }
    },
    {
      "cell_type": "markdown",
      "source": [
        "Linear Regression"
      ],
      "metadata": {
        "id": "uNCjpHu714_B"
      }
    },
    {
      "cell_type": "code",
      "source": [
        "from sklearn.linear_model import LinearRegression\n",
        "model=LinearRegression()\n",
        "model.fit(x_train, y_train)\n",
        "print(model.score(x_train, y_train))\n",
        "print(model.score(x_test,y_test))"
      ],
      "metadata": {
        "colab": {
          "base_uri": "https://localhost:8080/"
        },
        "id": "tebPEXll1BED",
        "outputId": "045ad8c9-47d2-4522-e56f-1e5d8b46bf9d"
      },
      "execution_count": 151,
      "outputs": [
        {
          "output_type": "stream",
          "name": "stdout",
          "text": [
            "0.047466345330020365\n",
            "0.0029897504968887656\n"
          ]
        }
      ]
    },
    {
      "cell_type": "markdown",
      "source": [
        "Random Forest Regressor"
      ],
      "metadata": {
        "id": "XsWKiFaa18Lo"
      }
    },
    {
      "cell_type": "code",
      "source": [
        "from sklearn.ensemble import RandomForestRegressor\n",
        "rfr = RandomForestRegressor().fit(x_train, y_train)\n",
        "print(rfr.score(x_train, y_train))\n",
        "print(rfr.score(x_test, y_test))"
      ],
      "metadata": {
        "colab": {
          "base_uri": "https://localhost:8080/"
        },
        "id": "lezmMeOV136T",
        "outputId": "8a1d71e8-5370-4197-b9f8-527c5193dc99"
      },
      "execution_count": 152,
      "outputs": [
        {
          "output_type": "stream",
          "name": "stdout",
          "text": [
            "0.8575525117486031\n",
            "0.10923338023914564\n"
          ]
        }
      ]
    },
    {
      "cell_type": "markdown",
      "source": [
        "XGBoost Regressor"
      ],
      "metadata": {
        "id": "bn7Rt56c2A3V"
      }
    },
    {
      "cell_type": "code",
      "source": [
        "from xgboost import XGBRegressor\n",
        "model_xgb = XGBRegressor()\n",
        "model_xgb.fit(x_train, y_train)\n",
        "print(model_xgb.score(x_train, y_train))\n",
        "print(model_xgb.score(x_test,y_test))"
      ],
      "metadata": {
        "colab": {
          "base_uri": "https://localhost:8080/"
        },
        "id": "dxjEQ-k12MpI",
        "outputId": "43d96068-4df9-409c-f480-3d2ace6832c8"
      },
      "execution_count": 153,
      "outputs": [
        {
          "output_type": "stream",
          "name": "stdout",
          "text": [
            "0.9987623831886507\n",
            "-0.0888782105694017\n"
          ]
        }
      ]
    },
    {
      "cell_type": "markdown",
      "source": [
        "KNN"
      ],
      "metadata": {
        "id": "P5kAtN-a3CJB"
      }
    },
    {
      "cell_type": "code",
      "source": [
        "from sklearn.neighbors import KNeighborsRegressor\n",
        "\n",
        "model_knn = KNeighborsRegressor(n_neighbors=5)  # You can adjust the number of neighbors (n_neighbors)\n",
        "model_knn.fit(x_train, y_train)\n",
        "print(model_knn.score(x_train, y_train))\n",
        "print(model_knn.score(x_test, y_test))"
      ],
      "metadata": {
        "colab": {
          "base_uri": "https://localhost:8080/"
        },
        "id": "otu5JakA3EUV",
        "outputId": "339279a6-5ae7-49d6-f334-6686b95b525d"
      },
      "execution_count": 154,
      "outputs": [
        {
          "output_type": "stream",
          "name": "stdout",
          "text": [
            "0.24633588018442076\n",
            "0.008825222639208041\n"
          ]
        }
      ]
    },
    {
      "cell_type": "markdown",
      "source": [
        "GausianNB"
      ],
      "metadata": {
        "id": "21_TRyrW3LZI"
      }
    },
    {
      "cell_type": "code",
      "source": [
        "from sklearn.naive_bayes import GaussianNB\n",
        "\n",
        "model_nb = GaussianNB()\n",
        "model_nb.fit(x_train, y_train)\n",
        "print(model_nb.score(x_train, y_train))\n",
        "print(model_nb.score(x_test, y_test))"
      ],
      "metadata": {
        "colab": {
          "base_uri": "https://localhost:8080/"
        },
        "id": "XXC89eaF3KjQ",
        "outputId": "14c1cb5b-5e49-4082-fc5c-66e19f8800e7"
      },
      "execution_count": 155,
      "outputs": [
        {
          "output_type": "stream",
          "name": "stdout",
          "text": [
            "1.0\n",
            "0.0\n"
          ]
        }
      ]
    },
    {
      "cell_type": "markdown",
      "source": [
        "Decision Tree Regressor"
      ],
      "metadata": {
        "id": "lOvtqpvC3WQe"
      }
    },
    {
      "cell_type": "code",
      "source": [
        "from sklearn.tree import DecisionTreeRegressor\n",
        "\n",
        "model_tree = DecisionTreeRegressor(max_depth=5)  # You can adjust the maximum depth of the tree\n",
        "model_tree.fit(x_train, y_train)\n",
        "print(model_tree.score(x_train, y_train))\n",
        "print(model_tree.score(x_test, y_test))"
      ],
      "metadata": {
        "colab": {
          "base_uri": "https://localhost:8080/"
        },
        "id": "cIxouVy53Vsn",
        "outputId": "d62c8db1-6ee3-44c9-d3ad-dd7ea6e0881b"
      },
      "execution_count": 156,
      "outputs": [
        {
          "output_type": "stream",
          "name": "stdout",
          "text": [
            "0.31279062711920513\n",
            "-0.06561904322610457\n"
          ]
        }
      ]
    },
    {
      "cell_type": "markdown",
      "source": [
        "ESTIMATING PERFORMANCE"
      ],
      "metadata": {
        "id": "dx64V1XB2Tb6"
      }
    },
    {
      "cell_type": "code",
      "source": [
        "from sklearn.linear_model import LinearRegression\n",
        "from sklearn.metrics import mean_squared_error, r2_score\n",
        "\n",
        "ytrain_pred=model_xgb.predict(x_train)\n",
        "ytest_pred=model_xgb.predict(x_test)\n",
        "\n",
        "mse1=mean_squared_error(y_train,ytrain_pred)\n",
        "rmse1=(np.sqrt(mean_squared_error(y_train,ytrain_pred)))\n",
        "r21=r2_score(y_train,ytrain_pred)\n",
        "\n",
        "mse=mean_squared_error(y_test,ytest_pred)\n",
        "rmse=(np.sqrt(mean_squared_error(y_test,ytest_pred)))\n",
        "r2=r2_score(y_test,ytest_pred)\n",
        "\n",
        "print(\"Performance Linear regressor model: \")\n",
        "print('MSE: ',mse1,\" \",mse)\n",
        "print('RMSE: ',rmse1,\" \",rmse)\n",
        "print('R2 score: ',r21,\" \",r2)"
      ],
      "metadata": {
        "colab": {
          "base_uri": "https://localhost:8080/"
        },
        "id": "aRVYPR1R2PT7",
        "outputId": "7b58c8f2-ca34-405c-a1d6-c92d723e942b"
      },
      "execution_count": 157,
      "outputs": [
        {
          "output_type": "stream",
          "name": "stdout",
          "text": [
            "Performance Linear regressor model: \n",
            "MSE:  34.74785340296628   30275.22576427284\n",
            "RMSE:  5.894730986479899   173.99777517046832\n",
            "R2 score:  0.9987623831886507   -0.0888782105694017\n"
          ]
        }
      ]
    },
    {
      "cell_type": "code",
      "source": [
        "from sklearn.model_selection import cross_val_score\n",
        "cross_val_score(model_xgb,x,y,cv=5)"
      ],
      "metadata": {
        "colab": {
          "base_uri": "https://localhost:8080/"
        },
        "id": "WENVp3UJ2Xvc",
        "outputId": "a92832df-c852-492c-dc79-f923f0194d1f"
      },
      "execution_count": 158,
      "outputs": [
        {
          "output_type": "execute_result",
          "data": {
            "text/plain": [
              "array([-2.55472051e-01, -2.24789345e-05, -2.30955518e-01, -4.06222763e-01,\n",
              "       -1.37029257e-01])"
            ]
          },
          "metadata": {},
          "execution_count": 158
        }
      ]
    },
    {
      "cell_type": "code",
      "source": [
        "from sklearn.ensemble import ExtraTreesRegressor\n",
        "selection = ExtraTreesRegressor()\n",
        "selection.fit(x, y)\n",
        "\n",
        "print(selection.feature_importances_)"
      ],
      "metadata": {
        "colab": {
          "base_uri": "https://localhost:8080/"
        },
        "id": "fFRn5lgy2bDx",
        "outputId": "c77a68a8-b6f4-4cb2-d423-38ceeca40c4e"
      },
      "execution_count": 159,
      "outputs": [
        {
          "output_type": "stream",
          "name": "stdout",
          "text": [
            "[0.16167181 0.03100323 0.21950688 0.09116607 0.19570793 0.16729253\n",
            " 0.13365156]\n"
          ]
        }
      ]
    },
    {
      "cell_type": "code",
      "source": [
        "import matplotlib.pyplot as plt\n",
        "from sklearn import metrics\n",
        "import seaborn as sns\n",
        "sns.set()"
      ],
      "metadata": {
        "id": "l_tYS7Qd21F3"
      },
      "execution_count": 160,
      "outputs": []
    },
    {
      "cell_type": "code",
      "source": [
        "plt.figure(figsize = (12,8))\n",
        "feat_importances = pd.Series(selection.feature_importances_, index=x.columns)\n",
        "feat_importances.nlargest(25).plot(kind='barh')\n",
        "plt.show()"
      ],
      "metadata": {
        "colab": {
          "base_uri": "https://localhost:8080/",
          "height": 681
        },
        "id": "_gDMrMau23jE",
        "outputId": "74d7f364-48d5-47c7-815c-ef4c5c3bb261"
      },
      "execution_count": 161,
      "outputs": [
        {
          "output_type": "display_data",
          "data": {
            "text/plain": [
              "<Figure size 1200x800 with 1 Axes>"
            ],
            "image/png": "[encoded data removed]"
          },
          "metadata": {}
        }
      ]
    },
    {
      "cell_type": "code",
      "source": [
        "from statsmodels.stats.outliers_influence import variance_inflation_factor\n",
        "def calc_vif(z):\n",
        "    vif = pd.DataFrame()\n",
        "    vif[\"variables\"] = z.columns\n",
        "    vif[\"VIF\"] = [variance_inflation_factor(z.values, i) for i in range(z.shape[1])]\n",
        "    return(vif)"
      ],
      "metadata": {
        "id": "D9jVunRM26H9"
      },
      "execution_count": 162,
      "outputs": []
    },
    {
      "cell_type": "code",
      "source": [
        "calc_vif(x)"
      ],
      "metadata": {
        "colab": {
          "base_uri": "https://localhost:8080/",
          "height": 269
        },
        "id": "WUjCqvDk28Vf",
        "outputId": "fe3fdbc1-f69f-40c8-d1da-fd0f0245fffd"
      },
      "execution_count": 163,
      "outputs": [
        {
          "output_type": "execute_result",
          "data": {
            "text/plain": [
              "     variables        VIF\n",
              "0       Rating  12.958177\n",
              "1           RD   6.263953\n",
              "2      Reviews   2.298267\n",
              "3  Star Rating   7.340155\n",
              "4        Price   2.142501\n",
              "5          Tax   1.963727\n",
              "6        state   3.130828"
            ],
            "text/html": [
              "\n",
              "  <div id=\"df-e8cdffbf-2d47-476b-917e-e83fe44051dd\" class=\"colab-df-container\">\n",
              "    <div>\n",
              "<style scoped>\n",
              "    .dataframe tbody tr th:only-of-type {\n",
              "        vertical-align: middle;\n",
              "    }\n",
              "\n",
              "    .dataframe tbody tr th {\n",
              "        vertical-align: top;\n",
              "    }\n",
              "\n",
              "    .dataframe thead th {\n",
              "        text-align: right;\n",
              "    }\n",
              "</style>\n",
              "<table border=\"1\" class=\"dataframe\">\n",
              "  <thead>\n",
              "    <tr style=\"text-align: right;\">\n",
              "      <th></th>\n",
              "      <th>variables</th>\n",
              "      <th>VIF</th>\n",
              "    </tr>\n",
              "  </thead>\n",
              "  <tbody>\n",
              "    <tr>\n",
              "      <th>0</th>\n",
              "      <td>Rating</td>\n",
              "      <td>12.958177</td>\n",
              "    </tr>\n",
              "    <tr>\n",
              "      <th>1</th>\n",
              "      <td>RD</td>\n",
              "      <td>6.263953</td>\n",
              "    </tr>\n",
              "    <tr>\n",
              "      <th>2</th>\n",
              "      <td>Reviews</td>\n",
              "      <td>2.298267</td>\n",
              "    </tr>\n",
              "    <tr>\n",
              "      <th>3</th>\n",
              "      <td>Star Rating</td>\n",
              "      <td>7.340155</td>\n",
              "    </tr>\n",
              "    <tr>\n",
              "      <th>4</th>\n",
              "      <td>Price</td>\n",
              "      <td>2.142501</td>\n",
              "    </tr>\n",
              "    <tr>\n",
              "      <th>5</th>\n",
              "      <td>Tax</td>\n",
              "      <td>1.963727</td>\n",
              "    </tr>\n",
              "    <tr>\n",
              "      <th>6</th>\n",
              "      <td>state</td>\n",
              "      <td>3.130828</td>\n",
              "    </tr>\n",
              "  </tbody>\n",
              "</table>\n",
              "</div>\n",
              "    <div class=\"colab-df-buttons\">\n",
              "\n",
              "  <div class=\"colab-df-container\">\n",
              "    <button class=\"colab-df-convert\" onclick=\"convertToInteractive('df-e8cdffbf-2d47-476b-917e-e83fe44051dd')\"\n",
              "            title=\"Convert this dataframe to an interactive table.\"\n",
              "            style=\"display:none;\">\n",
              "\n",
              "  <svg xmlns=\"http://www.w3.org/2000/svg\" height=\"24px\" viewBox=\"0 -960 960 960\">\n",
              "    <path d=\"M120-120v-720h720v720H120Zm60-500h600v-160H180v160Zm220 220h160v-160H400v160Zm0 220h160v-160H400v160ZM180-400h160v-160H180v160Zm440 0h160v-160H620v160ZM180-180h160v-160H180v160Zm440 0h160v-160H620v160Z\"/>\n",
              "  </svg>\n",
              "    </button>\n",
              "\n",
              "  <style>\n",
              "    .colab-df-container {\n",
              "      display:flex;\n",
              "      gap: 12px;\n",
              "    }\n",
              "\n",
              "    .colab-df-convert {\n",
              "      background-color: #E8F0FE;\n",
              "      border: none;\n",
              "      border-radius: 50%;\n",
              "      cursor: pointer;\n",
              "      display: none;\n",
              "      fill: #1967D2;\n",
              "      height: 32px;\n",
              "      padding: 0 0 0 0;\n",
              "      width: 32px;\n",
              "    }\n",
              "\n",
              "    .colab-df-convert:hover {\n",
              "      background-color: #E2EBFA;\n",
              "      box-shadow: 0px 1px 2px rgba(60, 64, 67, 0.3), 0px 1px 3px 1px rgba(60, 64, 67, 0.15);\n",
              "      fill: #174EA6;\n",
              "    }\n",
              "\n",
              "    .colab-df-buttons div {\n",
              "      margin-bottom: 4px;\n",
              "    }\n",
              "\n",
              "    [theme=dark] .colab-df-convert {\n",
              "      background-color: #3B4455;\n",
              "      fill: #D2E3FC;\n",
              "    }\n",
              "\n",
              "    [theme=dark] .colab-df-convert:hover {\n",
              "      background-color: #434B5C;\n",
              "      box-shadow: 0px 1px 3px 1px rgba(0, 0, 0, 0.15);\n",
              "      filter: drop-shadow(0px 1px 2px rgba(0, 0, 0, 0.3));\n",
              "      fill: #FFFFFF;\n",
              "    }\n",
              "  </style>\n",
              "\n",
              "    <script>\n",
              "      const buttonEl =\n",
              "        document.querySelector('#df-e8cdffbf-2d47-476b-917e-e83fe44051dd button.colab-df-convert');\n",
              "      buttonEl.style.display =\n",
              "        google.colab.kernel.accessAllowed ? 'block' : 'none';\n",
              "\n",
              "      async function convertToInteractive(key) {\n",
              "        const element = document.querySelector('#df-e8cdffbf-2d47-476b-917e-e83fe44051dd');\n",
              "        const dataTable =\n",
              "          await google.colab.kernel.invokeFunction('convertToInteractive',\n",
              "                                                    [key], {});\n",
              "        if (!dataTable) return;\n",
              "\n",
              "        const docLinkHtml = 'Like what you see? Visit the ' +\n",
              "          '<a target=\"_blank\" href=https://colab.research.google.com/notebooks/data_table.ipynb>data table notebook</a>'\n",
              "          + ' to learn more about interactive tables.';\n",
              "        element.innerHTML = '';\n",
              "        dataTable['output_type'] = 'display_data';\n",
              "        await google.colab.output.renderOutput(dataTable, element);\n",
              "        const docLink = document.createElement('div');\n",
              "        docLink.innerHTML = docLinkHtml;\n",
              "        element.appendChild(docLink);\n",
              "      }\n",
              "    </script>\n",
              "  </div>\n",
              "\n",
              "\n",
              "<div id=\"df-0e52627d-d3d8-4f94-8762-115ad5c082d9\">\n",
              "  <button class=\"colab-df-quickchart\" onclick=\"quickchart('df-0e52627d-d3d8-4f94-8762-115ad5c082d9')\"\n",
              "            title=\"Suggest charts\"\n",
              "            style=\"display:none;\">\n",
              "\n",
              "<svg xmlns=\"http://www.w3.org/2000/svg\" height=\"24px\"viewBox=\"0 0 24 24\"\n",
              "     width=\"24px\">\n",
              "    <g>\n",
              "        <path d=\"M19 3H5c-1.1 0-2 .9-2 2v14c0 1.1.9 2 2 2h14c1.1 0 2-.9 2-2V5c0-1.1-.9-2-2-2zM9 17H7v-7h2v7zm4 0h-2V7h2v10zm4 0h-2v-4h2v4z\"/>\n",
              "    </g>\n",
              "</svg>\n",
              "  </button>\n",
              "\n",
              "<style>\n",
              "  .colab-df-quickchart {\n",
              "      --bg-color: #E8F0FE;\n",
              "      --fill-color: #1967D2;\n",
              "      --hover-bg-color: #E2EBFA;\n",
              "      --hover-fill-color: #174EA6;\n",
              "      --disabled-fill-color: #AAA;\n",
              "      --disabled-bg-color: #DDD;\n",
              "  }\n",
              "\n",
              "  [theme=dark] .colab-df-quickchart {\n",
              "      --bg-color: #3B4455;\n",
              "      --fill-color: #D2E3FC;\n",
              "      --hover-bg-color: #434B5C;\n",
              "      --hover-fill-color: #FFFFFF;\n",
              "      --disabled-bg-color: #3B4455;\n",
              "      --disabled-fill-color: #666;\n",
              "  }\n",
              "\n",
              "  .colab-df-quickchart {\n",
              "    background-color: var(--bg-color);\n",
              "    border: none;\n",
              "    border-radius: 50%;\n",
              "    cursor: pointer;\n",
              "    display: none;\n",
              "    fill: var(--fill-color);\n",
              "    height: 32px;\n",
              "    padding: 0;\n",
              "    width: 32px;\n",
              "  }\n",
              "\n",
              "  .colab-df-quickchart:hover {\n",
              "    background-color: var(--hover-bg-color);\n",
              "    box-shadow: 0 1px 2px rgba(60, 64, 67, 0.3), 0 1px 3px 1px rgba(60, 64, 67, 0.15);\n",
              "    fill: var(--button-hover-fill-color);\n",
              "  }\n",
              "\n",
              "  .colab-df-quickchart-complete:disabled,\n",
              "  .colab-df-quickchart-complete:disabled:hover {\n",
              "    background-color: var(--disabled-bg-color);\n",
              "    fill: var(--disabled-fill-color);\n",
              "    box-shadow: none;\n",
              "  }\n",
              "\n",
              "  .colab-df-spinner {\n",
              "    border: 2px solid var(--fill-color);\n",
              "    border-color: transparent;\n",
              "    border-bottom-color: var(--fill-color);\n",
              "    animation:\n",
              "      spin 1s steps(1) infinite;\n",
              "  }\n",
              "\n",
              "  @keyframes spin {\n",
              "    0% {\n",
              "      border-color: transparent;\n",
              "      border-bottom-color: var(--fill-color);\n",
              "      border-left-color: var(--fill-color);\n",
              "    }\n",
              "    20% {\n",
              "      border-color: transparent;\n",
              "      border-left-color: var(--fill-color);\n",
              "      border-top-color: var(--fill-color);\n",
              "    }\n",
              "    30% {\n",
              "      border-color: transparent;\n",
              "      border-left-color: var(--fill-color);\n",
              "      border-top-color: var(--fill-color);\n",
              "      border-right-color: var(--fill-color);\n",
              "    }\n",
              "    40% {\n",
              "      border-color: transparent;\n",
              "      border-right-color: var(--fill-color);\n",
              "      border-top-color: var(--fill-color);\n",
              "    }\n",
              "    60% {\n",
              "      border-color: transparent;\n",
              "      border-right-color: var(--fill-color);\n",
              "    }\n",
              "    80% {\n",
              "      border-color: transparent;\n",
              "      border-right-color: var(--fill-color);\n",
              "      border-bottom-color: var(--fill-color);\n",
              "    }\n",
              "    90% {\n",
              "      border-color: transparent;\n",
              "      border-bottom-color: var(--fill-color);\n",
              "    }\n",
              "  }\n",
              "</style>\n",
              "\n",
              "  <script>\n",
              "    async function quickchart(key) {\n",
              "      const quickchartButtonEl =\n",
              "        document.querySelector('#' + key + ' button');\n",
              "      quickchartButtonEl.disabled = true;  // To prevent multiple clicks.\n",
              "      quickchartButtonEl.classList.add('colab-df-spinner');\n",
              "      try {\n",
              "        const charts = await google.colab.kernel.invokeFunction(\n",
              "            'suggestCharts', [key], {});\n",
              "      } catch (error) {\n",
              "        console.error('Error during call to suggestCharts:', error);\n",
              "      }\n",
              "      quickchartButtonEl.classList.remove('colab-df-spinner');\n",
              "      quickchartButtonEl.classList.add('colab-df-quickchart-complete');\n",
              "    }\n",
              "    (() => {\n",
              "      let quickchartButtonEl =\n",
              "        document.querySelector('#df-0e52627d-d3d8-4f94-8762-115ad5c082d9 button');\n",
              "      quickchartButtonEl.style.display =\n",
              "        google.colab.kernel.accessAllowed ? 'block' : 'none';\n",
              "    })();\n",
              "  </script>\n",
              "</div>\n",
              "\n",
              "    </div>\n",
              "  </div>\n"
            ],
            "application/vnd.google.colaboratory.intrinsic+json": {
              "type": "dataframe",
              "summary": "{\n  \"name\": \"calc_vif(x)\",\n  \"rows\": 7,\n  \"fields\": [\n    {\n      \"column\": \"variables\",\n      \"properties\": {\n        \"dtype\": \"string\",\n        \"num_unique_values\": 7,\n        \"samples\": [\n          \"Rating\",\n          \"RD\",\n          \"Tax\"\n        ],\n        \"semantic_type\": \"\",\n        \"description\": \"\"\n      }\n    },\n    {\n      \"column\": \"VIF\",\n      \"properties\": {\n        \"dtype\": \"number\",\n        \"std\": 4.049934226873791,\n        \"min\": 1.963726686536181,\n        \"max\": 12.958177422654892,\n        \"num_unique_values\": 7,\n        \"samples\": [\n          12.958177422654892,\n          6.263953214149787,\n          1.963726686536181\n        ],\n        \"semantic_type\": \"\",\n        \"description\": \"\"\n      }\n    }\n  ]\n}"
            }
          },
          "metadata": {},
          "execution_count": 163
        }
      ]
    },
    {
      "cell_type": "markdown",
      "source": [
        "SCALING OF DATA\n"
      ],
      "metadata": {
        "id": "v6BKsOZO3heP"
      }
    },
    {
      "cell_type": "markdown",
      "source": [
        "Standard Scaler"
      ],
      "metadata": {
        "id": "Gi63c9fj4PER"
      }
    },
    {
      "cell_type": "code",
      "source": [
        "from sklearn.preprocessing import StandardScaler\n",
        "\n",
        "# Create a StandardScaler instance\n",
        "scaler = StandardScaler()\n",
        "\n",
        "# Fit the scaler to your data and transform the features\n",
        "data_scaled = scaler.fit_transform(data)\n",
        "data_standardized = pd.DataFrame(data_scaled, columns=data.columns)\n",
        "\n",
        "\n",
        "x=data_standardized.drop('Name',axis=1)\n",
        "y=data_standardized['Name']\n",
        "print(x)\n",
        "print(y)\n",
        "\n",
        "from sklearn.model_selection import train_test_split\n",
        "x_train, x_test, y_train, y_test = train_test_split(x,y,test_size=0.3,random_state=123)\n",
        "\n",
        "from xgboost import XGBRegressor\n",
        "model_xgb = XGBRegressor()\n",
        "model_xgb.fit(x_train, y_train)\n",
        "print(model_xgb.score(x_train, y_train))\n",
        "print(model_xgb.score(x_test,y_test))\n",
        "\n",
        "plt.figure(figsize = (12,8))\n",
        "feat_importances = pd.Series(selection.feature_importances_, index=x.columns)\n",
        "feat_importances.nlargest(25).plot(kind='barh')\n",
        "plt.show()\n"
      ],
      "metadata": {
        "colab": {
          "base_uri": "https://localhost:8080/",
          "height": 1000
        },
        "id": "4sfklRrd3_rK",
        "outputId": "f7bb1605-e585-449c-980e-1d9c1ef6bf0f"
      },
      "execution_count": 164,
      "outputs": [
        {
          "output_type": "stream",
          "name": "stdout",
          "text": [
            "       Rating        RD   Reviews  Star Rating     Price       Tax     state\n",
            "0   -0.172482  0.658580  1.240461     0.980225  0.380819  2.607231 -0.835313\n",
            "1    0.072114  0.658580  0.222329     0.384905 -0.575797 -0.080791 -0.835313\n",
            "2    1.050498 -1.601635 -0.231882     0.980225  0.749222 -0.909195 -0.835313\n",
            "3    0.072114  0.658580  1.702875     0.980225 -0.443468  0.522961 -0.835313\n",
            "4    0.072114  0.658580  0.780610     0.384905 -0.415834  0.672729 -0.835313\n",
            "..        ...       ...       ...          ...       ...       ...       ...\n",
            "575 -0.906270  0.658580 -0.796315    -1.996374 -0.707019 -0.614339  1.496729\n",
            "576 -0.172482  0.658580 -0.412337     0.384905 -0.065117  0.841218  1.496729\n",
            "577 -0.417078  0.658580 -0.360559    -0.210415 -0.225711  0.694570  1.496729\n",
            "578  0.316710  0.658580  0.213102     0.384905  0.330762 -0.909195  1.496729\n",
            "579  0.072114  0.658580  0.050590     0.384905 -0.043010  0.892701  1.496729\n",
            "\n",
            "[580 rows x 7 columns]\n",
            "0      1.310985\n",
            "1     -0.128411\n",
            "2     -0.313561\n",
            "3      0.002986\n",
            "4     -0.146329\n",
            "         ...   \n",
            "575   -1.525999\n",
            "576   -1.430437\n",
            "577   -0.570383\n",
            "578   -0.642054\n",
            "579    0.582328\n",
            "Name: Name, Length: 580, dtype: float64\n",
            "0.9987616255037974\n",
            "-0.08876456405578437\n"
          ]
        },
        {
          "output_type": "display_data",
          "data": {
            "text/plain": [
              "<Figure size 1200x800 with 1 Axes>"
            ],
            "image/png": "[encoded data removed]"
          },
          "metadata": {}
        }
      ]
    },
    {
      "cell_type": "markdown",
      "source": [
        "ML Algortihms on scaled data standard scaler"
      ],
      "metadata": {
        "id": "WHKCH_t44qco"
      }
    },
    {
      "cell_type": "code",
      "source": [
        "from sklearn.linear_model import LinearRegression\n",
        "model=LinearRegression()\n",
        "model.fit(x_train, y_train)\n",
        "print(model.score(x_train, y_train))\n",
        "print(model.score(x_test,y_test))"
      ],
      "metadata": {
        "colab": {
          "base_uri": "https://localhost:8080/"
        },
        "id": "hfQfnQDp4CI7",
        "outputId": "7ea67af1-3a5e-4700-a2a2-809b93d4ab9e"
      },
      "execution_count": 165,
      "outputs": [
        {
          "output_type": "stream",
          "name": "stdout",
          "text": [
            "0.04746634533002059\n",
            "0.0029897504969035316\n"
          ]
        }
      ]
    },
    {
      "cell_type": "code",
      "source": [
        "from sklearn.ensemble import RandomForestRegressor\n",
        "rfr = RandomForestRegressor().fit(x_train, y_train)\n",
        "print(rfr.score(x_train, y_train))\n",
        "print(rfr.score(x_test, y_test))"
      ],
      "metadata": {
        "colab": {
          "base_uri": "https://localhost:8080/"
        },
        "id": "WYpkb9IM4orB",
        "outputId": "b579ee97-24ef-4b4b-e221-d604bec5b8bf"
      },
      "execution_count": 166,
      "outputs": [
        {
          "output_type": "stream",
          "name": "stdout",
          "text": [
            "0.8610822763813857\n",
            "0.12842061785386616\n"
          ]
        }
      ]
    },
    {
      "cell_type": "code",
      "source": [
        "from xgboost import XGBRegressor\n",
        "model_xgb = XGBRegressor()\n",
        "model_xgb.fit(x_train, y_train)\n",
        "print(model_xgb.score(x_train, y_train))\n",
        "print(model_xgb.score(x_test,y_test))"
      ],
      "metadata": {
        "colab": {
          "base_uri": "https://localhost:8080/"
        },
        "id": "2CdtUi9s4zP1",
        "outputId": "e0bfe7ba-180f-4c98-cc53-1eae4007906e"
      },
      "execution_count": 167,
      "outputs": [
        {
          "output_type": "stream",
          "name": "stdout",
          "text": [
            "0.9987616255037974\n",
            "-0.08876456405578437\n"
          ]
        }
      ]
    },
    {
      "cell_type": "code",
      "source": [
        "from sklearn.neighbors import KNeighborsRegressor\n",
        "\n",
        "model_knn = KNeighborsRegressor(n_neighbors=5)  # You can adjust the number of neighbors (n_neighbors)\n",
        "model_knn.fit(x_train, y_train)\n",
        "print(model_knn.score(x_train, y_train))\n",
        "print(model_knn.score(x_test, y_test))"
      ],
      "metadata": {
        "colab": {
          "base_uri": "https://localhost:8080/"
        },
        "id": "uSBUpRVj5G9a",
        "outputId": "83f594bb-c1fc-46c8-bf8b-f4414b3280c4"
      },
      "execution_count": 168,
      "outputs": [
        {
          "output_type": "stream",
          "name": "stdout",
          "text": [
            "0.2724195992791064\n",
            "-0.11878973602591092\n"
          ]
        }
      ]
    },
    {
      "cell_type": "code",
      "source": [
        "from sklearn.tree import DecisionTreeRegressor\n",
        "\n",
        "model_tree = DecisionTreeRegressor(max_depth=5)  # You can adjust the maximum depth of the tree\n",
        "model_tree.fit(x_train, y_train)\n",
        "print(model_tree.score(x_train, y_train))\n",
        "print(model_tree.score(x_test, y_test))"
      ],
      "metadata": {
        "colab": {
          "base_uri": "https://localhost:8080/"
        },
        "id": "AB2f8eZY5Tnr",
        "outputId": "8ebb8cfd-a125-480e-bf14-e5d2f1579346"
      },
      "execution_count": 169,
      "outputs": [
        {
          "output_type": "stream",
          "name": "stdout",
          "text": [
            "0.31279062711920524\n",
            "-0.03395538314688573\n"
          ]
        }
      ]
    },
    {
      "cell_type": "code",
      "source": [
        "from numpy import loadtxt\n",
        "from xgboost import XGBClassifier\n",
        "from xgboost import plot_tree\n",
        "import matplotlib.pyplot as plt\n",
        "\n",
        "plt.figure(figsize=(10,20))\n",
        "plot_tree(model_xgb,filled=True)\n",
        "plt.show()"
      ],
      "metadata": {
        "colab": {
          "base_uri": "https://localhost:8080/",
          "height": 104
        },
        "id": "j0xKHeL_ztTJ",
        "outputId": "41e4facd-c358-4d00-929f-e6b87dd15df6"
      },
      "execution_count": 170,
      "outputs": [
        {
          "output_type": "display_data",
          "data": {
            "text/plain": [
              "<Figure size 1000x2000 with 0 Axes>"
            ]
          },
          "metadata": {}
        },
        {
          "output_type": "display_data",
          "data": {
            "text/plain": [
              "<Figure size 640x480 with 1 Axes>"
            ],
            "image/png": "[encoded data removed]"
          },
          "metadata": {}
        }
      ]
    },
    {
      "cell_type": "markdown",
      "source": [
        "TESTING DATA"
      ],
      "metadata": {
        "id": "HHmSkHmw66oO"
      }
    },
    {
      "cell_type": "code",
      "source": [
        "ra=int(input('Enter rating: '))\n",
        "d = int(input('Enter rating description : '))\n",
        "re=int(input('Enter number of reviews: '))\n",
        "s= int(input('Enter star rating required: '))\n",
        "p=int (input('Enter price range: '))\n",
        "t=int (input('Enter tax expected: '))\n",
        "b=float(input('banglore: '))\n",
        "c=float(input('chennai: '))\n",
        "d=float(input('delhi: '))\n",
        "h=float(input('hyderabad: '))\n",
        "k=float(input('kolkata: '))\n",
        "m=float(input('mumbai: '))"
      ],
      "metadata": {
        "colab": {
          "base_uri": "https://localhost:8080/"
        },
        "id": "ORVdy9UZ58_R",
        "outputId": "35b0e403-da19-4e09-8e5d-df898ad430d6"
      },
      "execution_count": 171,
      "outputs": [
        {
          "name": "stdout",
          "output_type": "stream",
          "text": [
            "Enter rating: 4\n",
            "Enter rating description : 4\n",
            "Enter number of reviews: 100\n",
            "Enter star rating required: 5\n",
            "Enter price range: 1500\n",
            "Enter tax expected: 250\n",
            "banglore: 0\n",
            "chennai: 0\n",
            "delhi: 0\n",
            "hyderabad: 1\n",
            "kolkata: 0\n",
            "mumbai: 0\n"
          ]
        }
      ]
    },
    {
      "cell_type": "markdown",
      "source": [
        "CONSIDERING XGBOOST REGRESSOR MACHINE LEARNING ALGORITHM BY MIN MAX SCALING FOR THE PREDICTION"
      ],
      "metadata": {
        "id": "xrD4k4WA8DW_"
      }
    },
    {
      "cell_type": "code",
      "source": [
        "ip=np.array([[b,c,d,h,k,m,ra,d,re,s,p,t]])\n",
        "pred=model_xgb.predict(ip)[0]\n",
        "h=df.loc[int(pred)]\n",
        "print(pred)\n",
        "print(h)"
      ],
      "metadata": {
        "colab": {
          "base_uri": "https://localhost:8080/",
          "height": 373
        },
        "id": "0-JZON3B685m",
        "outputId": "61a16768-365e-4b17-b13b-34c021207744"
      },
      "execution_count": 172,
      "outputs": [
        {
          "output_type": "error",
          "ename": "ValueError",
          "evalue": "Feature shape mismatch, expected: 7, got 12",
          "traceback": [
            "\u001b[0;31m---------------------------------------------------------------------------\u001b[0m",
            "\u001b[0;31mValueError\u001b[0m                                Traceback (most recent call last)",
            "\u001b[0;32m<ipython-input-172-624f11efa39b>\u001b[0m in \u001b[0;36m<cell line: 2>\u001b[0;34m()\u001b[0m\n\u001b[1;32m      1\u001b[0m \u001b[0mip\u001b[0m\u001b[0;34m=\u001b[0m\u001b[0mnp\u001b[0m\u001b[0;34m.\u001b[0m\u001b[0marray\u001b[0m\u001b[0;34m(\u001b[0m\u001b[0;34m[\u001b[0m\u001b[0;34m[\u001b[0m\u001b[0mb\u001b[0m\u001b[0;34m,\u001b[0m\u001b[0mc\u001b[0m\u001b[0;34m,\u001b[0m\u001b[0md\u001b[0m\u001b[0;34m,\u001b[0m\u001b[0mh\u001b[0m\u001b[0;34m,\u001b[0m\u001b[0mk\u001b[0m\u001b[0;34m,\u001b[0m\u001b[0mm\u001b[0m\u001b[0;34m,\u001b[0m\u001b[0mra\u001b[0m\u001b[0;34m,\u001b[0m\u001b[0md\u001b[0m\u001b[0;34m,\u001b[0m\u001b[0mre\u001b[0m\u001b[0;34m,\u001b[0m\u001b[0ms\u001b[0m\u001b[0;34m,\u001b[0m\u001b[0mp\u001b[0m\u001b[0;34m,\u001b[0m\u001b[0mt\u001b[0m\u001b[0;34m]\u001b[0m\u001b[0;34m]\u001b[0m\u001b[0;34m)\u001b[0m\u001b[0;34m\u001b[0m\u001b[0;34m\u001b[0m\u001b[0m\n\u001b[0;32m----> 2\u001b[0;31m \u001b[0mpred\u001b[0m\u001b[0;34m=\u001b[0m\u001b[0mmodel_xgb\u001b[0m\u001b[0;34m.\u001b[0m\u001b[0mpredict\u001b[0m\u001b[0;34m(\u001b[0m\u001b[0mip\u001b[0m\u001b[0;34m)\u001b[0m\u001b[0;34m[\u001b[0m\u001b[0;36m0\u001b[0m\u001b[0;34m]\u001b[0m\u001b[0;34m\u001b[0m\u001b[0;34m\u001b[0m\u001b[0m\n\u001b[0m\u001b[1;32m      3\u001b[0m \u001b[0mh\u001b[0m\u001b[0;34m=\u001b[0m\u001b[0mdf\u001b[0m\u001b[0;34m.\u001b[0m\u001b[0mloc\u001b[0m\u001b[0;34m[\u001b[0m\u001b[0mint\u001b[0m\u001b[0;34m(\u001b[0m\u001b[0mpred\u001b[0m\u001b[0;34m)\u001b[0m\u001b[0;34m]\u001b[0m\u001b[0;34m\u001b[0m\u001b[0;34m\u001b[0m\u001b[0m\n\u001b[1;32m      4\u001b[0m \u001b[0mprint\u001b[0m\u001b[0;34m(\u001b[0m\u001b[0mpred\u001b[0m\u001b[0;34m)\u001b[0m\u001b[0;34m\u001b[0m\u001b[0;34m\u001b[0m\u001b[0m\n\u001b[1;32m      5\u001b[0m \u001b[0mprint\u001b[0m\u001b[0;34m(\u001b[0m\u001b[0mh\u001b[0m\u001b[0;34m)\u001b[0m\u001b[0;34m\u001b[0m\u001b[0;34m\u001b[0m\u001b[0m\n",
            "\u001b[0;32m/usr/local/lib/python3.10/dist-packages/xgboost/sklearn.py\u001b[0m in \u001b[0;36mpredict\u001b[0;34m(self, X, output_margin, validate_features, base_margin, iteration_range)\u001b[0m\n\u001b[1;32m   1166\u001b[0m             \u001b[0;32mif\u001b[0m \u001b[0mself\u001b[0m\u001b[0;34m.\u001b[0m\u001b[0m_can_use_inplace_predict\u001b[0m\u001b[0;34m(\u001b[0m\u001b[0;34m)\u001b[0m\u001b[0;34m:\u001b[0m\u001b[0;34m\u001b[0m\u001b[0;34m\u001b[0m\u001b[0m\n\u001b[1;32m   1167\u001b[0m                 \u001b[0;32mtry\u001b[0m\u001b[0;34m:\u001b[0m\u001b[0;34m\u001b[0m\u001b[0;34m\u001b[0m\u001b[0m\n\u001b[0;32m-> 1168\u001b[0;31m                     predts = self.get_booster().inplace_predict(\n\u001b[0m\u001b[1;32m   1169\u001b[0m                         \u001b[0mdata\u001b[0m\u001b[0;34m=\u001b[0m\u001b[0mX\u001b[0m\u001b[0;34m,\u001b[0m\u001b[0;34m\u001b[0m\u001b[0;34m\u001b[0m\u001b[0m\n\u001b[1;32m   1170\u001b[0m                         \u001b[0miteration_range\u001b[0m\u001b[0;34m=\u001b[0m\u001b[0miteration_range\u001b[0m\u001b[0;34m,\u001b[0m\u001b[0;34m\u001b[0m\u001b[0;34m\u001b[0m\u001b[0m\n",
            "\u001b[0;32m/usr/local/lib/python3.10/dist-packages/xgboost/core.py\u001b[0m in \u001b[0;36minplace_predict\u001b[0;34m(self, data, iteration_range, predict_type, missing, validate_features, base_margin, strict_shape)\u001b[0m\n\u001b[1;32m   2426\u001b[0m                 )\n\u001b[1;32m   2427\u001b[0m             \u001b[0;32mif\u001b[0m \u001b[0mlen\u001b[0m\u001b[0;34m(\u001b[0m\u001b[0mdata\u001b[0m\u001b[0;34m.\u001b[0m\u001b[0mshape\u001b[0m\u001b[0;34m)\u001b[0m \u001b[0;34m!=\u001b[0m \u001b[0;36m1\u001b[0m \u001b[0;32mand\u001b[0m \u001b[0mself\u001b[0m\u001b[0;34m.\u001b[0m\u001b[0mnum_features\u001b[0m\u001b[0;34m(\u001b[0m\u001b[0;34m)\u001b[0m \u001b[0;34m!=\u001b[0m \u001b[0mdata\u001b[0m\u001b[0;34m.\u001b[0m\u001b[0mshape\u001b[0m\u001b[0;34m[\u001b[0m\u001b[0;36m1\u001b[0m\u001b[0;34m]\u001b[0m\u001b[0;34m:\u001b[0m\u001b[0;34m\u001b[0m\u001b[0;34m\u001b[0m\u001b[0m\n\u001b[0;32m-> 2428\u001b[0;31m                 raise ValueError(\n\u001b[0m\u001b[1;32m   2429\u001b[0m                     \u001b[0;34mf\"Feature shape mismatch, expected: {self.num_features()}, \"\u001b[0m\u001b[0;34m\u001b[0m\u001b[0;34m\u001b[0m\u001b[0m\n\u001b[1;32m   2430\u001b[0m                     \u001b[0;34mf\"got {data.shape[1]}\"\u001b[0m\u001b[0;34m\u001b[0m\u001b[0;34m\u001b[0m\u001b[0m\n",
            "\u001b[0;31mValueError\u001b[0m: Feature shape mismatch, expected: 7, got 12"
          ]
        }
      ]
    },
    {
      "cell_type": "code",
      "source": [
        "import pickle\n",
        "with open('HRec.pkl','wb') as file:\n",
        "  pickle.dump(model_xgb,file)"
      ],
      "metadata": {
        "id": "Js3_hyYa7NR1"
      },
      "execution_count": null,
      "outputs": []
    },
    {
      "cell_type": "markdown",
      "source": [
        "contentbased filtering\n"
      ],
      "metadata": {
        "id": "nSPHUoZVXocF"
      }
    },
    {
      "cell_type": "code",
      "source": [
        "pip install fuzzywuzzy\n"
      ],
      "metadata": {
        "colab": {
          "base_uri": "https://localhost:8080/"
        },
        "id": "LgySNK3PYUgq",
        "outputId": "ae02ca0c-5a08-48db-c972-17bd31c7f765"
      },
      "execution_count": 173,
      "outputs": [
        {
          "output_type": "stream",
          "name": "stdout",
          "text": [
            "Requirement already satisfied: fuzzywuzzy in /usr/local/lib/python3.10/dist-packages (0.18.0)\n"
          ]
        }
      ]
    },
    {
      "cell_type": "code",
      "source": [
        "\n",
        "from fuzzywuzzy import process\n",
        "import pandas as pd\n",
        "from sklearn.feature_extraction.text import TfidfVectorizer\n",
        "from sklearn.metrics.pairwise import linear_kernel\n",
        "\n",
        "# Load the hotel dataset\n",
        "hotels_df = pd.read_csv('hotel_data.csv', encoding='latin-1')\n",
        "hotels_df.rename(columns={'ï»¿Hotel Name': 'Hotel Name'}, inplace=True)\n",
        "\n",
        "# Convert Rating column to string\n",
        "hotels_df['Rating'] = hotels_df['Rating'].astype(str)\n",
        "\n",
        "# Combine relevant text data into a single feature for each hotel\n",
        "hotels_df['combined_features'] = hotels_df['Rating'] + ' ' + hotels_df['Location'] + ' ' + hotels_df['state']\n",
        "\n",
        "\n",
        "# Fit and transform the TF-IDF vectorizer on the combined text features\n",
        "from sklearn.feature_extraction.text import TfidfVectorizer\n",
        "\n",
        "# Initialize the TF-IDF vectorizer with desired parameters\n",
        "tfidf_vectorizer = TfidfVectorizer()\n",
        "\n",
        "# Fill missing values in the 'combined_features' column with an empty string\n",
        "hotels_df['combined_features'].fillna('', inplace=True)\n",
        "\n",
        "# Fit and transform the TF-IDF vectorizer on the combined text features\n",
        "tfidf_matrix = tfidf_vectorizer.fit_transform(hotels_df['combined_features'])\n",
        "\n",
        "\n",
        "\n",
        "# Compute the cosine similarity matrix\n",
        "cosine_sim = linear_kernel(tfidf_matrix, tfidf_matrix)\n",
        "def get_recommendations(hotel_title, hotels_df, cosine_sim):\n",
        "    try:\n",
        "        # Find exact match\n",
        "        idx = hotels_df[hotels_df['Hotel Name'] == hotel_title].index[0]\n",
        "    except IndexError:\n",
        "        # If exact match not found, try fuzzy matching\n",
        "        matches = process.extractOne(hotel_title, hotels_df['Hotel Name'])\n",
        "        if matches[1] > 80:  # Adjust the similarity threshold as needed\n",
        "            hotel_title = matches[0]\n",
        "            idx = hotels_df[hotels_df['Hotel Name'] == hotel_title].index[0]\n",
        "        else:\n",
        "            return \"Hotel not found in the dataset.\"\n",
        "\n",
        "    # Get the pairwise similarity scores of all hotels with that hotel\n",
        "    sim_scores = list(enumerate(cosine_sim[idx]))\n",
        "\n",
        "    # Sort the hotels based on the similarity scores\n",
        "    sim_scores = sorted(sim_scores, key=lambda x: x[1], reverse=True)\n",
        "\n",
        "    # Get the top 5 most similar hotels\n",
        "    sim_scores = sim_scores[1:6]\n",
        "\n",
        "    # Get the hotel indices\n",
        "    hotel_indices = [i[0] for i in sim_scores]\n",
        "\n",
        "    # Return the top 5 similar hotels\n",
        "    return hotels_df['Hotel Name'].iloc[hotel_indices]\n",
        "\n",
        "\n",
        "hotel_title = 'Radisson Blu Atria Bengaluru'  # Enter the name of the hotel you want to get recommendations for\n",
        "recommendations = get_recommendations(hotel_title, hotels_df, cosine_sim)\n",
        "print(\"Recommended Hotels for\", hotel_title, \":\")\n",
        "print(recommendations)\n"
      ],
      "metadata": {
        "id": "Z2ZZfJb57Xzi",
        "colab": {
          "base_uri": "https://localhost:8080/"
        },
        "outputId": "f87177eb-ddf8-4219-bdd7-7c7b75f21b92"
      },
      "execution_count": 174,
      "outputs": [
        {
          "output_type": "stream",
          "name": "stdout",
          "text": [
            "Recommended Hotels for Radisson Blu Atria Bengaluru :\n",
            "75                                 Shangri-La Bengaluru\n",
            "4     Keys Select by Lemon Tree Hotels, Hosur Road, ...\n",
            "17                          Ashraya International Hotel\n",
            "31           Ibis Bengaluru Hosur Road - An Accor Brand\n",
            "51                            Zone By The Park Infantry\n",
            "Name: Hotel Name, dtype: object\n"
          ]
        }
      ]
    },
    {
      "cell_type": "code",
      "source": [
        "print(hotels_df.columns)"
      ],
      "metadata": {
        "id": "CGtzsYOrvdsQ"
      },
      "execution_count": null,
      "outputs": []
    },
    {
      "cell_type": "code",
      "source": [
        "import pickle\n",
        "\n",
        "# Save the cosine similarity matrix\n",
        "with open('cosine_sim.pkl', 'wb') as f:\n",
        "    pickle.dump(cosine_sim, f)\n",
        "\n",
        "# Save the hotels dataframe\n",
        "with open('hotels_df.pkl', 'wb') as f:\n",
        "    pickle.dump(hotels_df, f)\n"
      ],
      "metadata": {
        "id": "duQvZyT7is36"
      },
      "execution_count": 175,
      "outputs": []
    },
    {
      "cell_type": "markdown",
      "source": [
        "collaborative filtering"
      ],
      "metadata": {
        "id": "jrSZtlX0YfJi"
      }
    },
    {
      "cell_type": "code",
      "source": [
        "\n",
        "!pip install scikit-surprise"
      ],
      "metadata": {
        "colab": {
          "base_uri": "https://localhost:8080/"
        },
        "id": "KWPYd6b7v25o",
        "outputId": "dddfc741-deca-4ab4-a261-70095df26189"
      },
      "execution_count": 176,
      "outputs": [
        {
          "output_type": "stream",
          "name": "stdout",
          "text": [
            "Requirement already satisfied: scikit-surprise in /usr/local/lib/python3.10/dist-packages (1.1.4)\n",
            "Requirement already satisfied: joblib>=1.2.0 in /usr/local/lib/python3.10/dist-packages (from scikit-surprise) (1.4.2)\n",
            "Requirement already satisfied: numpy>=1.19.5 in /usr/local/lib/python3.10/dist-packages (from scikit-surprise) (1.25.2)\n",
            "Requirement already satisfied: scipy>=1.6.0 in /usr/local/lib/python3.10/dist-packages (from scikit-surprise) (1.11.4)\n"
          ]
        }
      ]
    },
    {
      "cell_type": "code",
      "source": [
        "import pandas as pd\n",
        "\n",
        "# Load your hotel dataset using pandas\n",
        "hotels_df = pd.read_csv('hotel_data.csv', encoding='latin-1')\n",
        "hotels_df.rename(columns={'ï»¿Hotel Name': 'Hotel Name'}, inplace=True)\n",
        "\n",
        "# Generate sequential User IDs\n",
        "hotels_df['User ID'] = range(1, len(hotels_df) + 1)\n",
        "\n",
        "# Select relevant columns for collaborative filtering\n",
        "ratings_df = hotels_df[['User ID', 'Hotel Name', 'Rating']]\n",
        "\n",
        "print(ratings_df.head())  # Check the first few rows to verify\n"
      ],
      "metadata": {
        "colab": {
          "base_uri": "https://localhost:8080/"
        },
        "id": "WwqOi92oy6Of",
        "outputId": "525665a0-b1dd-4b2d-d569-5f68ff748b14"
      },
      "execution_count": 177,
      "outputs": [
        {
          "output_type": "stream",
          "name": "stdout",
          "text": [
            "   User ID                                         Hotel Name  Rating\n",
            "0        1                                 The Park Bangalore     3.9\n",
            "1        2  Keys Select by Lemon Tree Hotels, Whitefield, ...     4.0\n",
            "2        3            ITC Windsor - A Luxury Collection Hotel     4.4\n",
            "3        4           Lemon Tree Premier Ulsoor Lake Bangalore     4.0\n",
            "4        5  Keys Select by Lemon Tree Hotels, Hosur Road, ...     4.0\n"
          ]
        }
      ]
    },
    {
      "cell_type": "code",
      "source": [
        "# Install surprise library if you haven't already\n",
        "# pip install scikit-surprise\n",
        "\n",
        "from surprise import Dataset, Reader, SVD\n",
        "from surprise.model_selection import cross_validate\n",
        "\n",
        "# Define the rating scale for the surprise Reader\n",
        "reader = Reader(rating_scale=(1, 5))  # Assuming ratings are on a scale of 1 to 5\n",
        "\n",
        "# Load dataset from pandas DataFrame to surprise Dataset format\n",
        "data = Dataset.load_from_df(ratings_df[['User ID', 'Hotel Name', 'Rating']], reader)\n",
        "\n",
        "# Use the SVD algorithm (Singular Value Decomposition)\n",
        "algo = SVD()\n",
        "\n",
        "# Perform cross-validation\n",
        "cross_validate(algo, data, measures=['RMSE', 'MAE'], cv=5, verbose=True)\n",
        "\n",
        "# Train the algorithm on the entire dataset\n",
        "trainset = data.build_full_trainset()\n",
        "algo.fit(trainset)\n",
        "\n",
        "# Example of recommending hotels for a user\n",
        "def get_top_n_recommendations(user_id, n=5):\n",
        "    # Get hotels that the user hasn't rated yet\n",
        "    rated_hotels = ratings_df[ratings_df['User ID'] == user_id]['Hotel Name'].tolist()\n",
        "    all_hotels = list(ratings_df['Hotel Name'].unique())\n",
        "    unrated_hotels = [hotel for hotel in all_hotels if hotel not in rated_hotels]\n",
        "\n",
        "    # Predict ratings for unrated hotels\n",
        "    predictions = []\n",
        "    for hotel in unrated_hotels:\n",
        "        predicted_rating = algo.predict(user_id, hotel).est\n",
        "        predictions.append((hotel, predicted_rating))\n",
        "\n",
        "    # Sort predictions by predicted rating in descending order\n",
        "    predictions.sort(key=lambda x: x[1], reverse=True)\n",
        "\n",
        "    # Return top n recommendations\n",
        "    top_n = predictions[:n]\n",
        "    return top_n\n",
        "\n",
        "# Example usage:\n",
        "user_id = 1  # Replace with the actual user ID\n",
        "top_recommendations = get_top_n_recommendations(user_id)\n",
        "print(f\"Top {len(top_recommendations)} Recommendations for User {user_id}:\")\n",
        "for idx, (hotel, predicted_rating) in enumerate(top_recommendations, 1):\n",
        "    print(f\"{idx}. {hotel} (Predicted Rating: {predicted_rating:.2f})\")\n"
      ],
      "metadata": {
        "colab": {
          "base_uri": "https://localhost:8080/"
        },
        "id": "WCwpfotEy-BC",
        "outputId": "b381f8fc-f4db-4dc2-d29c-aa54916f6787"
      },
      "execution_count": 178,
      "outputs": [
        {
          "output_type": "stream",
          "name": "stdout",
          "text": [
            "Evaluating RMSE, MAE of algorithm SVD on 5 split(s).\n",
            "\n",
            "                  Fold 1  Fold 2  Fold 3  Fold 4  Fold 5  Mean    Std     \n",
            "RMSE (testset)    1.0329  1.1343  nan     1.1263  1.0970  nan     nan     \n",
            "MAE (testset)     0.9767  1.0466  nan     1.0483  1.0500  nan     nan     \n",
            "Fit time          0.02    0.01    0.01    0.01    0.01    0.01    0.00    \n",
            "Test time         0.00    0.00    0.00    0.00    0.00    0.00    0.00    \n",
            "Top 5 Recommendations for User 1:\n",
            "1. Keys Select by Lemon Tree Hotels, Whitefield, Bengaluru (Predicted Rating: 5.00)\n",
            "2. ITC Windsor - A Luxury Collection Hotel (Predicted Rating: 5.00)\n",
            "3. Lemon Tree Premier Ulsoor Lake Bangalore (Predicted Rating: 5.00)\n",
            "4. Keys Select by Lemon Tree Hotels, Hosur Road, Bengaluru (Predicted Rating: 5.00)\n",
            "5. The Chancery Pavilion (Predicted Rating: 5.00)\n"
          ]
        }
      ]
    },
    {
      "cell_type": "code",
      "source": [],
      "metadata": {
        "id": "kEPv26RKdrGJ"
      },
      "execution_count": null,
      "outputs": []
    }
  ]
}